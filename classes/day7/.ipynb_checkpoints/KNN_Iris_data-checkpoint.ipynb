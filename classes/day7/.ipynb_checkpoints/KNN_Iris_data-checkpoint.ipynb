{
 "cells": [
  {
   "cell_type": "markdown",
   "metadata": {
    "colab_type": "text",
    "id": "VTMfvxuSrLUR"
   },
   "source": [
    "## Dataset"
   ]
  },
  {
   "cell_type": "markdown",
   "metadata": {
    "colab_type": "text",
    "id": "Kz2T6C2MrPp6"
   },
   "source": [
    "#### History\n",
    "\n",
    "This is a multivariate dataset introduced by R.A.Fisher (Father of Modern Statistics) for showcasing linear discriminant analysis. This is arguably the best known dataset in Feature Selection literature.\n",
    "\n",
    "\n",
    "The data set contains 3 classes of 50 instances each, where each class refers to a type of iris plant. One class is linearly separable from the other 2; the latter are NOT linearly separable from each other. "
   ]
  },
  {
   "cell_type": "markdown",
   "metadata": {
    "colab_type": "text",
    "id": "62AAQoRKrQIK"
   },
   "source": [
    "#### Description\n",
    "The Iris dataset consists of 150 data instances. There are 3 classes (Iris Versicolor, Iris Setosa and Iris Virginica) each have 50 instances. \n",
    "\n",
    "\n",
    "For each flower we have the below data attributes \n",
    "\n",
    "- sepal length in cm\n",
    "- sepal width in cm\n",
    "- petal length in cm\n",
    "- petal width in cm\n",
    "\n",
    "To make our experiment easy we rename the classes  with numbers : \n",
    "\n",
    "    \"0\": setosa\n",
    "    \"1\": versicolor\n",
    "    \"2\": virginica\n",
    "    "
   ]
  },
  {
   "cell_type": "markdown",
   "metadata": {
    "colab_type": "text",
    "id": "J-KMXJrArUFg"
   },
   "source": [
    "### Challenges\n",
    "\n",
    "When we use the data with large number of features or dimensionality, models usually choke because\n",
    "\n",
    "    1. Training time increases exponentially with number of features.\n",
    "    2. Models have increasing risk of overfitting with increasing number of features.\n",
    "    \n",
    "To avoid the above mentioned problems while learning about data analysis, we use simple, well behaved, data that reduces the cognitive load, and makes it easier to debug as we are able to better comprehend the data we are working with.  \n",
    "\n",
    "Hence, this is a good dataset to work on."
   ]
  },
  {
   "cell_type": "markdown",
   "metadata": {
    "colab_type": "text",
    "id": "06lEbv7grYmm"
   },
   "source": [
    "## Domain Information"
   ]
  },
  {
   "cell_type": "markdown",
   "metadata": {
    "colab_type": "text",
    "id": "QIB3dtlNrWy6"
   },
   "source": [
    "\n",
    "\n",
    "Iris Plants are flowering plants with showy flowers. They are very popular among movie directors as it gives excellent background. \n",
    "\n",
    "They are predominantly found in dry, semi-desert, or colder rocky mountainous areas in Europe and Asia. They have long, erect flowering stems and can produce white, yellow, orange, pink, purple, lavender, blue or brown colored flowers. There are 260 to 300 types of iris.\n",
    "\n",
    "![alt text](https://cdn-images-1.medium.com/max/1275/1*7bnLKsChXq94QjtAiRn40w.png)\n",
    "\n",
    "As you could see, flowers have 3 sepals and 3 petals.  The sepals are usually spreading or drop downwards and the petals stand upright, partly behind the sepal bases. However, the length and width of the sepals and petals vary for each type.\n"
   ]
  },
  {
   "cell_type": "markdown",
   "metadata": {
    "colab_type": "text",
    "id": "s3y2Exi10krJ"
   },
   "source": [
    "### Setup Steps"
   ]
  },
  {
   "cell_type": "code",
   "execution_count": null,
   "metadata": {
    "cellView": "form",
    "colab": {},
    "colab_type": "code",
    "id": "UyXv7drCezRm"
   },
   "outputs": [],
   "source": [
    "#@title Run this cell to complete the setup for this Notebook\n",
    "from IPython import get_ipython\n",
    "\n",
    "ipython = get_ipython()\n",
    "\n",
    "ipython.magic(\"sx apt-get install graphviz\")\n",
    "ipython.magic(\"sx pip install graphviz\")\n"
   ]
  },
  {
   "cell_type": "markdown",
   "metadata": {
    "colab_type": "text",
    "id": "Y9pFXqtfbcxG"
   },
   "source": [
    "#### Importing Required Packages"
   ]
  },
  {
   "cell_type": "code",
   "execution_count": null,
   "metadata": {
    "colab": {},
    "colab_type": "code",
    "id": "hOiKa2ma0iXG"
   },
   "outputs": [],
   "source": [
    "import numpy as np\n",
    "import matplotlib.pyplot as plt\n",
    "from sklearn.datasets import load_iris"
   ]
  },
  {
   "cell_type": "markdown",
   "metadata": {
    "colab_type": "text",
    "id": "WW2MIcyYbp3R"
   },
   "source": [
    "#### Loading the data"
   ]
  },
  {
   "cell_type": "code",
   "execution_count": null,
   "metadata": {
    "colab": {},
    "colab_type": "code",
    "id": "ahaXITNN0iXM"
   },
   "outputs": [],
   "source": [
    "# Load data\n",
    "iris = load_iris()"
   ]
  },
  {
   "cell_type": "code",
   "execution_count": null,
   "metadata": {
    "colab": {},
    "colab_type": "code",
    "id": "xVmjqSLl7BVE"
   },
   "outputs": [],
   "source": [
    "# Checking for the type of iris\n",
    "print(type(iris))"
   ]
  },
  {
   "cell_type": "code",
   "execution_count": null,
   "metadata": {
    "colab": {
     "base_uri": "https://localhost:8080/",
     "height": 34
    },
    "colab_type": "code",
    "executionInfo": {
     "elapsed": 1298,
     "status": "ok",
     "timestamp": 1591077863041,
     "user": {
      "displayName": "Chris Andrew",
      "photoUrl": "https://lh3.googleusercontent.com/a-/AOh14GijPE5GK3ACK78y2NM8U3riMZg2uPi2wSYD0XE1rjc=s64",
      "userId": "14503470327412570349"
     },
     "user_tz": -330
    },
    "id": "IBTq2Nq77FXX",
    "outputId": "6f014caa-8320-41b5-c1e4-2b614c6ec2a2"
   },
   "outputs": [],
   "source": [
    "# Checking the keys\n",
    "print(iris.keys())"
   ]
  },
  {
   "cell_type": "code",
   "execution_count": null,
   "metadata": {
    "colab": {
     "base_uri": "https://localhost:8080/",
     "height": 34
    },
    "colab_type": "code",
    "executionInfo": {
     "elapsed": 1329,
     "status": "ok",
     "timestamp": 1591077904316,
     "user": {
      "displayName": "Chris Andrew",
      "photoUrl": "https://lh3.googleusercontent.com/a-/AOh14GijPE5GK3ACK78y2NM8U3riMZg2uPi2wSYD0XE1rjc=s64",
      "userId": "14503470327412570349"
     },
     "user_tz": -330
    },
    "id": "ToZ3tlUF7K55",
    "outputId": "ad20c5ea-d97c-4d5e-a882-0b07ac6156f8"
   },
   "outputs": [],
   "source": [
    "# Checking for the type of data\n",
    "print(type(iris.data))"
   ]
  },
  {
   "cell_type": "code",
   "execution_count": null,
   "metadata": {
    "colab": {
     "base_uri": "https://localhost:8080/",
     "height": 34
    },
    "colab_type": "code",
    "executionInfo": {
     "elapsed": 1312,
     "status": "ok",
     "timestamp": 1591077908123,
     "user": {
      "displayName": "Chris Andrew",
      "photoUrl": "https://lh3.googleusercontent.com/a-/AOh14GijPE5GK3ACK78y2NM8U3riMZg2uPi2wSYD0XE1rjc=s64",
      "userId": "14503470327412570349"
     },
     "user_tz": -330
    },
    "id": "7uoeDccj7O2r",
    "outputId": "52bfd5f8-8fca-4771-eced-73cd763b8ae8"
   },
   "outputs": [],
   "source": [
    "# Checking for unique target or class values\n",
    "print(set(iris.target))"
   ]
  },
  {
   "cell_type": "code",
   "execution_count": null,
   "metadata": {
    "colab": {
     "base_uri": "https://localhost:8080/",
     "height": 185
    },
    "colab_type": "code",
    "executionInfo": {
     "elapsed": 1378,
     "status": "ok",
     "timestamp": 1591077913878,
     "user": {
      "displayName": "Chris Andrew",
      "photoUrl": "https://lh3.googleusercontent.com/a-/AOh14GijPE5GK3ACK78y2NM8U3riMZg2uPi2wSYD0XE1rjc=s64",
      "userId": "14503470327412570349"
     },
     "user_tz": -330
    },
    "id": "2HKXHXoi0iXT",
    "outputId": "4b0273b8-5ca8-4257-8cab-20af86b095e1"
   },
   "outputs": [],
   "source": [
    "# Let us see how the iris data looks\n",
    "print(iris.data[::15])"
   ]
  },
  {
   "cell_type": "code",
   "execution_count": 7,
   "metadata": {
    "colab": {
     "base_uri": "https://localhost:8080/",
     "height": 34
    },
    "colab_type": "code",
    "executionInfo": {
     "elapsed": 1699,
     "status": "ok",
     "timestamp": 1591077926361,
     "user": {
      "displayName": "Chris Andrew",
      "photoUrl": "https://lh3.googleusercontent.com/a-/AOh14GijPE5GK3ACK78y2NM8U3riMZg2uPi2wSYD0XE1rjc=s64",
      "userId": "14503470327412570349"
     },
     "user_tz": -330
    },
    "id": "lVws1ElL7ZVD",
    "outputId": "02d370a2-a458-4bf4-f773-580f0baa87d1"
   },
   "outputs": [
    {
     "name": "stdout",
     "output_type": "stream",
     "text": [
      "[0 0 0 0 1 1 1 2 2 2]\n"
     ]
    }
   ],
   "source": [
    "# Let us see how the labels \n",
    "print(iris.target[::15])"
   ]
  },
  {
   "cell_type": "code",
   "execution_count": 0,
   "metadata": {
    "colab": {},
    "colab_type": "code",
    "id": "huEVABwD76Lh"
   },
   "outputs": [],
   "source": [
    "# Storing the data and labels into \"X\" and \"y\" varaibles\n",
    "X = iris.data\n",
    "y = iris.target"
   ]
  },
  {
   "cell_type": "markdown",
   "metadata": {
    "colab_type": "text",
    "id": "I7U-Twt17lbo"
   },
   "source": [
    "### Splitting the data into train and test sets "
   ]
  },
  {
   "cell_type": "code",
   "execution_count": 0,
   "metadata": {
    "colab": {},
    "colab_type": "code",
    "id": "jjP5s4zX7vyL"
   },
   "outputs": [],
   "source": [
    "from sklearn.model_selection import train_test_split"
   ]
  },
  {
   "cell_type": "code",
   "execution_count": 0,
   "metadata": {
    "colab": {},
    "colab_type": "code",
    "id": "LK8VJHlv71Bd"
   },
   "outputs": [],
   "source": [
    "# Training and testing set ratio is 70 : 30\n",
    "X_train, X_test, y_train, y_test = train_test_split(X, y, test_size=0.33, random_state=42)"
   ]
  },
  {
   "cell_type": "code",
   "execution_count": 13,
   "metadata": {
    "colab": {
     "base_uri": "https://localhost:8080/",
     "height": 34
    },
    "colab_type": "code",
    "executionInfo": {
     "elapsed": 1439,
     "status": "ok",
     "timestamp": 1591078070873,
     "user": {
      "displayName": "Chris Andrew",
      "photoUrl": "https://lh3.googleusercontent.com/a-/AOh14GijPE5GK3ACK78y2NM8U3riMZg2uPi2wSYD0XE1rjc=s64",
      "userId": "14503470327412570349"
     },
     "user_tz": -330
    },
    "id": "-t0sCcrA8Mhq",
    "outputId": "a6ca7c53-7c65-4375-b6f5-ec74ad5216ec"
   },
   "outputs": [
    {
     "data": {
      "text/plain": [
       "((100, 4), (50, 4))"
      ]
     },
     "execution_count": 13,
     "metadata": {
      "tags": []
     },
     "output_type": "execute_result"
    }
   ],
   "source": [
    "# Let us see the size of train and  test sets\n",
    "X_train.shape, X_test.shape"
   ]
  },
  {
   "cell_type": "code",
   "execution_count": 14,
   "metadata": {
    "colab": {
     "base_uri": "https://localhost:8080/",
     "height": 101
    },
    "colab_type": "code",
    "executionInfo": {
     "elapsed": 1227,
     "status": "ok",
     "timestamp": 1591078080831,
     "user": {
      "displayName": "Chris Andrew",
      "photoUrl": "https://lh3.googleusercontent.com/a-/AOh14GijPE5GK3ACK78y2NM8U3riMZg2uPi2wSYD0XE1rjc=s64",
      "userId": "14503470327412570349"
     },
     "user_tz": -330
    },
    "id": "v92X7J-68Vdc",
    "outputId": "29b6ab4e-e91c-4833-aca4-16853e4ca6a7"
   },
   "outputs": [
    {
     "data": {
      "text/plain": [
       "array([[5.7, 2.9, 4.2, 1.3],\n",
       "       [7.6, 3. , 6.6, 2.1],\n",
       "       [5.6, 3. , 4.5, 1.5],\n",
       "       [5.1, 3.5, 1.4, 0.2],\n",
       "       [7.7, 2.8, 6.7, 2. ]])"
      ]
     },
     "execution_count": 14,
     "metadata": {
      "tags": []
     },
     "output_type": "execute_result"
    }
   ],
   "source": [
    "# Let us see first five rows of the training data\n",
    "X_train[:5]"
   ]
  },
  {
   "cell_type": "markdown",
   "metadata": {
    "colab_type": "text",
    "id": "EFpCi8-jbyOO"
   },
   "source": [
    "### Training a  Knn Classifier "
   ]
  },
  {
   "cell_type": "code",
   "execution_count": 0,
   "metadata": {
    "colab": {},
    "colab_type": "code",
    "id": "CJ1mY7jB8iMv"
   },
   "outputs": [],
   "source": [
    "from sklearn.neighbors import KNeighborsClassifier"
   ]
  },
  {
   "cell_type": "code",
   "execution_count": 17,
   "metadata": {
    "colab": {
     "base_uri": "https://localhost:8080/",
     "height": 34
    },
    "colab_type": "code",
    "executionInfo": {
     "elapsed": 1299,
     "status": "ok",
     "timestamp": 1591079107945,
     "user": {
      "displayName": "Chris Andrew",
      "photoUrl": "https://lh3.googleusercontent.com/a-/AOh14GijPE5GK3ACK78y2NM8U3riMZg2uPi2wSYD0XE1rjc=s64",
      "userId": "14503470327412570349"
     },
     "user_tz": -330
    },
    "id": "5sNJ0RcK8neX",
    "outputId": "b332c241-2a30-4af7-902d-fad5cd27eaba"
   },
   "outputs": [
    {
     "name": "stdout",
     "output_type": "stream",
     "text": [
      "0.98 0.98\n"
     ]
    }
   ],
   "source": [
    "neigh = KNeighborsClassifier(n_neighbors=3)\n",
    "neigh.fit(X_train,y_train)\n",
    "y_pred = neigh.predict(X_test)\n",
    "score = (y_pred == y_test).sum()/len(y_test)\n",
    "score2 = neigh.score(X_test,y_test)\n",
    "print(score, score2)"
   ]
  },
  {
   "cell_type": "code",
   "execution_count": 0,
   "metadata": {
    "colab": {},
    "colab_type": "code",
    "id": "7FAEVCEL8qV2"
   },
   "outputs": [],
   "source": [
    "# Plot a graph showing accuracy vs number of neighbours for each value of n_neighbours from 1-50\n"
   ]
  }
 ],
 "metadata": {
  "accelerator": "GPU",
  "colab": {
   "collapsed_sections": [],
   "name": "KNN_Iris_data.ipynb",
   "provenance": []
  },
  "kernelspec": {
   "display_name": "SMAI",
   "language": "python",
   "name": "smai"
  },
  "language_info": {
   "codemirror_mode": {
    "name": "ipython",
    "version": 3
   },
   "file_extension": ".py",
   "mimetype": "text/x-python",
   "name": "python",
   "nbconvert_exporter": "python",
   "pygments_lexer": "ipython3",
   "version": "3.8.2"
  }
 },
 "nbformat": 4,
 "nbformat_minor": 1
}
