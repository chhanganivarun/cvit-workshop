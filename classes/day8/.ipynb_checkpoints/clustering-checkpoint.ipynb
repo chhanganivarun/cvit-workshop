{
 "cells": [
  {
   "cell_type": "code",
   "execution_count": 1,
   "metadata": {},
   "outputs": [],
   "source": [
    "%matplotlib inline\n",
    "import numpy as np\n",
    "import matplotlib.pyplot as plt\n",
    "from sklearn.cluster import KMeans"
   ]
  },
  {
   "cell_type": "code",
   "execution_count": 2,
   "metadata": {},
   "outputs": [],
   "source": [
    "np.random.seed(2)\n",
    "points = np.vstack((np.random.normal(0,0.5,size=(4,2)),np.random.normal(3,0.5,size=(4,2))))\n",
    "points = np.vstack((points, np.array([[1.5,1.5]])))\n",
    "points = np.vstack((points, np.array([[1.25,1.25]])))"
   ]
  },
  {
   "cell_type": "code",
   "execution_count": 3,
   "metadata": {},
   "outputs": [],
   "source": [
    "def plot_clusters(points, cluster_labels,labels=None,offset = 0.01,show_annotations = True,are_centers = False):\n",
    "    uncluster_labels = np.unique(cluster_labels)\n",
    "    alpha = 1\n",
    "    if labels == None:\n",
    "        labels = np.arange(points.shape[0])\n",
    "    \n",
    "    for label in uncluster_labels:\n",
    "        if are_centers:\n",
    "            alpha = 0.5\n",
    "        plt.scatter(points[cluster_labels == label,0],points[cluster_labels == label,1],label=label,alpha=alpha)\n",
    "    if show_annotations:\n",
    "        for x in range(points.shape[0]):\n",
    "            plt.annotate(labels[x],(points[x,0]+offset,points[x,1]+offset))\n",
    "    plt.legend()"
   ]
  },
  {
   "cell_type": "code",
   "execution_count": 4,
   "metadata": {},
   "outputs": [
    {
     "data": {
      "image/png": "[encoded data removed]",
      "text/plain": [
       "<Figure size 432x288 with 1 Axes>"
      ]
     },
     "metadata": {
      "needs_background": "light"
     },
     "output_type": "display_data"
    }
   ],
   "source": [
    "cluster_labels = np.zeros(10).tolist()\n",
    "offset = 0.05\n",
    "plot_clusters(points,cluster_labels,offset=0.05)\n",
    "plt.show()"
   ]
  },
  {
   "cell_type": "code",
   "execution_count": 5,
   "metadata": {},
   "outputs": [
    {
     "name": "stdout",
     "output_type": "stream",
     "text": [
      "<points>-<label>\n",
      "wrong input.\n",
      "Example of input: 9-2 where point label is 9, cluster label is 2\n"
     ]
    }
   ],
   "source": [
    "cluster_labels = np.zeros(10).tolist()\n",
    "offset = 0.05\n",
    "while True:\n",
    "    x = input('<points>-<label>')\n",
    "    if x == 'exit':\n",
    "        break\n",
    "    try:\n",
    "        x,y = int(x.split('-')[0]),int(x.split('-')[1])\n",
    "    except:\n",
    "        print('wrong input.\\nExample of input: 9-2 where point label is 9, cluster label is 2')\n",
    "    try:\n",
    "        cluster_labels[x]=y\n",
    "    except:\n",
    "\n",
    "        break\n",
    "    plot_clusters(points,cluster_labels,offset=0.05)\n",
    "    plt.show()\n"
   ]
  },
  {
   "cell_type": "code",
   "execution_count": 6,
   "metadata": {},
   "outputs": [],
   "source": [
    "kmeans = KMeans(n_clusters = 3)"
   ]
  },
  {
   "cell_type": "code",
   "execution_count": 7,
   "metadata": {},
   "outputs": [
    {
     "data": {
      "text/plain": [
       "KMeans(n_clusters=3)"
      ]
     },
     "execution_count": 7,
     "metadata": {},
     "output_type": "execute_result"
    }
   ],
   "source": [
    "kmeans.fit(points)"
   ]
  },
  {
   "cell_type": "code",
   "execution_count": 8,
   "metadata": {},
   "outputs": [
    {
     "data": {
      "text/plain": [
       "array([1, 1, 1, 1, 0, 0, 0, 0, 2, 2], dtype=int32)"
      ]
     },
     "execution_count": 8,
     "metadata": {},
     "output_type": "execute_result"
    }
   ],
   "source": [
    "kmeans.labels_"
   ]
  },
  {
   "cell_type": "code",
   "execution_count": 9,
   "metadata": {},
   "outputs": [
    {
     "data": {
      "image/png": "[encoded data removed]",
      "text/plain": [
       "<Figure size 432x288 with 1 Axes>"
      ]
     },
     "metadata": {
      "needs_background": "light"
     },
     "output_type": "display_data"
    }
   ],
   "source": [
    "plot_clusters(points,kmeans.labels_,offset=0.05)"
   ]
  },
  {
   "cell_type": "code",
   "execution_count": 10,
   "metadata": {},
   "outputs": [
    {
     "data": {
      "text/plain": [
       "<matplotlib.image.AxesImage at 0x7fa4e8a2edf0>"
      ]
     },
     "execution_count": 10,
     "metadata": {},
     "output_type": "execute_result"
    },
    {
     "data": {
      "image/png": "[encoded data removed]",
      "text/plain": [
       "<Figure size 432x288 with 1 Axes>"
      ]
     },
     "metadata": {
      "needs_background": "light"
     },
     "output_type": "display_data"
    }
   ],
   "source": [
    "from sklearn.metrics.pairwise import euclidean_distances\n",
    "plt.imshow(euclidean_distances(points,points))"
   ]
  },
  {
   "cell_type": "code",
   "execution_count": 11,
   "metadata": {},
   "outputs": [],
   "source": [
    "def initialise_centers(points,K):\n",
    "    p = np.copy(points)\n",
    "    return p[np.random.choice(p.shape[0],size=K,replace=False)]"
   ]
  },
  {
   "cell_type": "code",
   "execution_count": 12,
   "metadata": {},
   "outputs": [],
   "source": [
    "def assign(points,centers):\n",
    "    return np.argmin(euclidean_distances(points,centers),axis=1)"
   ]
  },
  {
   "cell_type": "code",
   "execution_count": 13,
   "metadata": {},
   "outputs": [],
   "source": [
    "centers = initialise_centers(points,3)"
   ]
  },
  {
   "cell_type": "code",
   "execution_count": 14,
   "metadata": {},
   "outputs": [
    {
     "data": {
      "text/plain": [
       "array([1, 1, 1, 1, 0, 2, 0, 0, 1, 1])"
      ]
     },
     "execution_count": 14,
     "metadata": {},
     "output_type": "execute_result"
    }
   ],
   "source": [
    "cluster_labels = assign(points,centers)\n",
    "cluster_labels"
   ]
  },
  {
   "cell_type": "code",
   "execution_count": 15,
   "metadata": {},
   "outputs": [],
   "source": [
    "def recalculate_centers(points, cluster_labels,K):\n",
    "    uncluster_labels = np.unique(cluster_labels)\n",
    "    new_centers = np.zeros((K,2))\n",
    "    for label in uncluster_labels:\n",
    "        new_centers[label] = np.mean(points[cluster_labels == label],axis = 0)\n",
    "    return new_centers"
   ]
  },
  {
   "cell_type": "code",
   "execution_count": 16,
   "metadata": {},
   "outputs": [
    {
     "data": {
      "image/png": "[encoded data removed]",
      "text/plain": [
       "<Figure size 432x288 with 1 Axes>"
      ]
     },
     "metadata": {
      "needs_background": "light"
     },
     "output_type": "display_data"
    },
    {
     "data": {
      "image/png": "[encoded data removed]",
      "text/plain": [
       "<Figure size 432x288 with 1 Axes>"
      ]
     },
     "metadata": {
      "needs_background": "light"
     },
     "output_type": "display_data"
    },
    {
     "data": {
      "image/png": "[encoded data removed]",
      "text/plain": [
       "<Figure size 432x288 with 1 Axes>"
      ]
     },
     "metadata": {
      "needs_background": "light"
     },
     "output_type": "display_data"
    }
   ],
   "source": [
    "centers = initialise_centers(points,3)\n",
    "cluster_labels = assign(points,centers)\n",
    "plt.figure()\n",
    "plot_clusters(points,cluster_labels,offset=0.05)\n",
    "while True:\n",
    "    centers_ = recalculate_centers(points,cluster_labels,centers.shape[0])\n",
    "    cluster_labels = assign(points,centers)\n",
    "    plt.figure()\n",
    "    plot_clusters(points,cluster_labels,offset=0.05)\n",
    "    if (centers_[centers_ != centers]).shape[0] == 0:\n",
    "        break\n",
    "    centers = centers_"
   ]
  },
  {
   "cell_type": "code",
   "execution_count": 17,
   "metadata": {},
   "outputs": [
    {
     "data": {
      "text/plain": [
       "array([[ 3.18867529,  3.09635381],\n",
       "       [-0.48043851, -0.06287893],\n",
       "       [ 1.7403413 ,  1.7651654 ]])"
      ]
     },
     "execution_count": 17,
     "metadata": {},
     "output_type": "execute_result"
    }
   ],
   "source": [
    "centers"
   ]
  },
  {
   "cell_type": "code",
   "execution_count": 18,
   "metadata": {},
   "outputs": [
    {
     "data": {
      "text/plain": [
       "array([[ 3.00926244,  2.95863941],\n",
       "       [-0.48043851, -0.06287893],\n",
       "       [ 1.375     ,  1.375     ]])"
      ]
     },
     "execution_count": 18,
     "metadata": {},
     "output_type": "execute_result"
    }
   ],
   "source": [
    "recalculate_centers(points,cluster_labels,centers.shape[0])"
   ]
  },
  {
   "cell_type": "code",
   "execution_count": 19,
   "metadata": {},
   "outputs": [
    {
     "data": {
      "image/png": "[encoded data removed]",
      "text/plain": [
       "<Figure size 432x288 with 1 Axes>"
      ]
     },
     "metadata": {
      "needs_background": "light"
     },
     "output_type": "display_data"
    }
   ],
   "source": [
    "np.random.seed(2)\n",
    "K = 5\n",
    "X = []\n",
    "for i in range(5):\n",
    "    X.append(np.random.normal(2**i,(i+1)/5, size=(20,2)))\n",
    "\n",
    "points = np.vstack(X)\n",
    "plot_clusters(points, np.zeros((points.shape[0])), show_annotations=False)"
   ]
  },
  {
   "cell_type": "code",
   "execution_count": 20,
   "metadata": {},
   "outputs": [
    {
     "data": {
      "image/png": "[encoded data removed]",
      "text/plain": [
       "<Figure size 432x288 with 1 Axes>"
      ]
     },
     "metadata": {
      "needs_background": "light"
     },
     "output_type": "display_data"
    },
    {
     "data": {
      "image/png": "[encoded data removed]",
      "text/plain": [
       "<Figure size 432x288 with 1 Axes>"
      ]
     },
     "metadata": {
      "needs_background": "light"
     },
     "output_type": "display_data"
    },
    {
     "data": {
      "image/png": "[encoded data removed]",
      "text/plain": [
       "<Figure size 432x288 with 1 Axes>"
      ]
     },
     "metadata": {
      "needs_background": "light"
     },
     "output_type": "display_data"
    }
   ],
   "source": [
    "centers = initialise_centers(points,K)\n",
    "cluster_labels = assign(points,centers)\n",
    "plt.figure()\n",
    "plot_clusters(points,cluster_labels,offset=0.05,show_annotations=False)\n",
    "while True:\n",
    "    centers_ = recalculate_centers(points,cluster_labels,centers.shape[0])\n",
    "    cluster_labels = assign(points,centers)\n",
    "    plt.figure()\n",
    "    plot_clusters(points,cluster_labels,offset=0.05,show_annotations=False)\n",
    "    if (centers_[centers_ != centers]).shape[0] == 0:\n",
    "        break\n",
    "    centers = centers_"
   ]
  },
  {
   "cell_type": "code",
   "execution_count": 21,
   "metadata": {},
   "outputs": [
    {
     "data": {
      "image/png": "[encoded data removed]",
      "text/plain": [
       "<Figure size 432x288 with 1 Axes>"
      ]
     },
     "metadata": {
      "needs_background": "light"
     },
     "output_type": "display_data"
    },
    {
     "data": {
      "image/png": "[encoded data removed]",
      "text/plain": [
       "<Figure size 432x288 with 1 Axes>"
      ]
     },
     "metadata": {
      "needs_background": "light"
     },
     "output_type": "display_data"
    },
    {
     "data": {
      "image/png": "[encoded data removed]",
      "text/plain": [
       "<Figure size 432x288 with 1 Axes>"
      ]
     },
     "metadata": {
      "needs_background": "light"
     },
     "output_type": "display_data"
    }
   ],
   "source": [
    "centers = initialise_centers(points,K)\n",
    "cluster_labels = assign(points,centers)\n",
    "plt.figure()\n",
    "plot_clusters(points,cluster_labels,offset=0.05,show_annotations=False)\n",
    "while True:\n",
    "    centers_ = recalculate_centers(points,cluster_labels,centers.shape[0])\n",
    "    cluster_labels = assign(points,centers)\n",
    "    plt.figure()\n",
    "    plot_clusters(points,cluster_labels,offset=0.05,show_annotations=False)\n",
    "    if (centers_[centers_ != centers]).shape[0] == 0:\n",
    "        break\n",
    "    centers = centers_"
   ]
  },
  {
   "cell_type": "code",
   "execution_count": 22,
   "metadata": {},
   "outputs": [],
   "source": [
    "from sklearn.datasets import make_circles"
   ]
  },
  {
   "cell_type": "code",
   "execution_count": 23,
   "metadata": {},
   "outputs": [
    {
     "data": {
      "image/png": "[encoded data removed]",
      "text/plain": [
       "<Figure size 432x288 with 1 Axes>"
      ]
     },
     "metadata": {
      "needs_background": "light"
     },
     "output_type": "display_data"
    }
   ],
   "source": [
    "points, _ = make_circles(100, noise=0.06, factor=0.5)\n",
    "plt.scatter(points[:,0], points[:,1])\n",
    "K = 2"
   ]
  },
  {
   "cell_type": "code",
   "execution_count": 24,
   "metadata": {},
   "outputs": [
    {
     "data": {
      "image/png": "[encoded data removed]",
      "text/plain": [
       "<Figure size 432x288 with 1 Axes>"
      ]
     },
     "metadata": {
      "needs_background": "light"
     },
     "output_type": "display_data"
    },
    {
     "data": {
      "image/png": "[encoded data removed]",
      "text/plain": [
       "<Figure size 432x288 with 1 Axes>"
      ]
     },
     "metadata": {
      "needs_background": "light"
     },
     "output_type": "display_data"
    },
    {
     "data": {
      "image/png": "[encoded data removed]",
      "text/plain": [
       "<Figure size 432x288 with 1 Axes>"
      ]
     },
     "metadata": {
      "needs_background": "light"
     },
     "output_type": "display_data"
    }
   ],
   "source": [
    "centers = initialise_centers(points,K)\n",
    "cluster_labels = assign(points,centers)\n",
    "plt.figure()\n",
    "plot_clusters(points,cluster_labels,offset=0.05,show_annotations=False)\n",
    "while True:\n",
    "    centers_ = recalculate_centers(points,cluster_labels,centers.shape[0])\n",
    "    cluster_labels = assign(points,centers)\n",
    "    plt.figure()\n",
    "    plot_clusters(points,cluster_labels,offset=0.05,show_annotations=False)\n",
    "    if (centers_[centers_ != centers]).shape[0] == 0:\n",
    "        break\n",
    "    centers = centers_"
   ]
  },
  {
   "cell_type": "code",
   "execution_count": 25,
   "metadata": {},
   "outputs": [],
   "source": [
    "r = np.sqrt(points[:,0]**2+points[:,1]**2)\n",
    "t = np.arctan2(points[:,1],points[:,0])\n",
    "points2 = np.copy(points)\n",
    "points[:,0] = r\n",
    "points[:,1] = (t)/(2*np.pi)"
   ]
  },
  {
   "cell_type": "code",
   "execution_count": 26,
   "metadata": {},
   "outputs": [
    {
     "data": {
      "image/png": "[encoded data removed]",
      "text/plain": [
       "<Figure size 432x288 with 1 Axes>"
      ]
     },
     "metadata": {
      "needs_background": "light"
     },
     "output_type": "display_data"
    },
    {
     "data": {
      "image/png": "[encoded data removed]",
      "text/plain": [
       "<Figure size 432x288 with 1 Axes>"
      ]
     },
     "metadata": {
      "needs_background": "light"
     },
     "output_type": "display_data"
    },
    {
     "data": {
      "image/png": "[encoded data removed]",
      "text/plain": [
       "<Figure size 432x288 with 1 Axes>"
      ]
     },
     "metadata": {
      "needs_background": "light"
     },
     "output_type": "display_data"
    }
   ],
   "source": [
    "centers = initialise_centers(points,K)\n",
    "cluster_labels = assign(points,centers)\n",
    "plt.figure()\n",
    "plot_clusters(points,cluster_labels,offset=0.05,show_annotations=False)\n",
    "while True:\n",
    "    centers_ = recalculate_centers(points,cluster_labels,centers.shape[0])\n",
    "    cluster_labels = assign(points,centers)\n",
    "    plt.figure()\n",
    "    plot_clusters(points,cluster_labels,offset=0.05,show_annotations=False)\n",
    "    if (centers_[centers_ != centers]).shape[0] == 0:\n",
    "        break\n",
    "    centers = centers_"
   ]
  },
  {
   "cell_type": "code",
   "execution_count": 27,
   "metadata": {},
   "outputs": [
    {
     "data": {
      "image/png": "[encoded data removed]",
      "text/plain": [
       "<Figure size 432x288 with 1 Axes>"
      ]
     },
     "metadata": {
      "needs_background": "light"
     },
     "output_type": "display_data"
    }
   ],
   "source": [
    "plot_clusters(points2,cluster_labels,offset=0.05,show_annotations=False)"
   ]
  },
  {
   "cell_type": "code",
   "execution_count": 28,
   "metadata": {},
   "outputs": [],
   "source": [
    "points = np.copy(points2)"
   ]
  },
  {
   "cell_type": "code",
   "execution_count": 29,
   "metadata": {},
   "outputs": [],
   "source": [
    "r = np.sqrt(points[:,0]**2+points[:,1]**2)\n",
    "t = np.arctan2(points[:,1],points[:,0])\n",
    "points2 = np.copy(points)\n",
    "points[:,0] = r\n",
    "points[:,1] = 0"
   ]
  },
  {
   "cell_type": "code",
   "execution_count": 30,
   "metadata": {},
   "outputs": [
    {
     "data": {
      "image/png": "[encoded data removed]",
      "text/plain": [
       "<Figure size 432x288 with 1 Axes>"
      ]
     },
     "metadata": {
      "needs_background": "light"
     },
     "output_type": "display_data"
    },
    {
     "data": {
      "image/png": "[encoded data removed]",
      "text/plain": [
       "<Figure size 432x288 with 1 Axes>"
      ]
     },
     "metadata": {
      "needs_background": "light"
     },
     "output_type": "display_data"
    },
    {
     "data": {
      "image/png": "[encoded data removed]",
      "text/plain": [
       "<Figure size 432x288 with 1 Axes>"
      ]
     },
     "metadata": {
      "needs_background": "light"
     },
     "output_type": "display_data"
    }
   ],
   "source": [
    "centers = initialise_centers(points,K)\n",
    "cluster_labels = assign(points,centers)\n",
    "plt.figure()\n",
    "plot_clusters(points,cluster_labels,offset=0.05,show_annotations=False)\n",
    "while True:\n",
    "    centers_ = recalculate_centers(points,cluster_labels,centers.shape[0])\n",
    "    cluster_labels = assign(points,centers)\n",
    "    plt.figure()\n",
    "    plot_clusters(points,cluster_labels,offset=0.05,show_annotations=False)\n",
    "    if (centers_[centers_ != centers]).shape[0] == 0:\n",
    "        break\n",
    "    centers = centers_"
   ]
  },
  {
   "cell_type": "code",
   "execution_count": 31,
   "metadata": {},
   "outputs": [
    {
     "data": {
      "image/png": "[encoded data removed]",
      "text/plain": [
       "<Figure size 432x288 with 1 Axes>"
      ]
     },
     "metadata": {
      "needs_background": "light"
     },
     "output_type": "display_data"
    }
   ],
   "source": [
    "plot_clusters(points2,cluster_labels,offset=0.05,show_annotations=False)"
   ]
  },
  {
   "cell_type": "code",
   "execution_count": null,
   "metadata": {},
   "outputs": [],
   "source": []
  },
  {
   "cell_type": "code",
   "execution_count": 39,
   "metadata": {},
   "outputs": [],
   "source": [
    "import os\n",
    "import json\n",
    "files = os.listdir('Final Dataset/')"
   ]
  },
  {
   "cell_type": "code",
   "execution_count": 35,
   "metadata": {},
   "outputs": [
    {
     "data": {
      "text/plain": [
       "['final_varun.json',\n",
       " 'final_Shashank.json',\n",
       " 'final_dolton.json',\n",
       " 'final_tirth.json',\n",
       " 'final_yoogottamk.json',\n",
       " 'final_Ammar.json',\n",
       " 'final_Aman.json',\n",
       " 'final_abhishek.json',\n",
       " 'final_ayan.json']"
      ]
     },
     "execution_count": 35,
     "metadata": {},
     "output_type": "execute_result"
    }
   ],
   "source": [
    "files"
   ]
  },
  {
   "cell_type": "code",
   "execution_count": 54,
   "metadata": {},
   "outputs": [],
   "source": [
    "vectors = dict()\n",
    "for i in range(len(files)):\n",
    "    name = files[i].split('_')[1].split('.')[0]\n",
    "    f = open(os.path.join('Final Dataset',files[i]),'r')\n",
    "    vectors[name] = json.load(f)\n",
    "    f.close()"
   ]
  },
  {
   "cell_type": "code",
   "execution_count": 55,
   "metadata": {},
   "outputs": [
    {
     "data": {
      "text/plain": [
       "'varun'"
      ]
     },
     "execution_count": 55,
     "metadata": {},
     "output_type": "execute_result"
    }
   ],
   "source": [
    "files[0].split('_')[1].split('.')[0]"
   ]
  },
  {
   "cell_type": "code",
   "execution_count": 56,
   "metadata": {},
   "outputs": [
    {
     "data": {
      "text/plain": [
       "{'varun': {'username': 'varun',\n",
       "  'movie_ids': [239,\n",
       "   10218,\n",
       "   17264,\n",
       "   84204,\n",
       "   71547,\n",
       "   25968,\n",
       "   539,\n",
       "   25793,\n",
       "   76617,\n",
       "   9991,\n",
       "   25208,\n",
       "   28005,\n",
       "   30139,\n",
       "   48309,\n",
       "   23531,\n",
       "   848,\n",
       "   50646,\n",
       "   177572,\n",
       "   19933,\n",
       "   9683,\n",
       "   11843,\n",
       "   312791,\n",
       "   256687,\n",
       "   9331,\n",
       "   16320,\n",
       "   12159,\n",
       "   13342,\n",
       "   266647,\n",
       "   14191,\n",
       "   8676,\n",
       "   9746,\n",
       "   46989,\n",
       "   11469,\n",
       "   9009,\n",
       "   58492,\n",
       "   22617,\n",
       "   16112,\n",
       "   5176,\n",
       "   11835,\n",
       "   4011,\n",
       "   889,\n",
       "   14220,\n",
       "   12207,\n",
       "   11453,\n",
       "   11062,\n",
       "   6538,\n",
       "   22796,\n",
       "   9730,\n",
       "   6552,\n",
       "   2503,\n",
       "   2989,\n",
       "   38055,\n",
       "   557,\n",
       "   699,\n",
       "   1690,\n",
       "   10521,\n",
       "   5178,\n",
       "   4244,\n",
       "   116977,\n",
       "   9509,\n",
       "   17734,\n",
       "   8198,\n",
       "   36549,\n",
       "   9880,\n",
       "   11690],\n",
       "  'genre_freq': {'Action': 15,\n",
       "   'Adventure': 10,\n",
       "   'Fantasy': 9,\n",
       "   'Science Fiction': 5,\n",
       "   'Crime': 3,\n",
       "   'Drama': 26,\n",
       "   'Thriller': 22,\n",
       "   'Animation': 4,\n",
       "   'Family': 12,\n",
       "   'Western': 1,\n",
       "   'Comedy': 30,\n",
       "   'Romance': 16,\n",
       "   'Horror': 9,\n",
       "   'Mystery': 3,\n",
       "   'History': 2,\n",
       "   'War': 0,\n",
       "   'Music': 1,\n",
       "   'Documentary': 1,\n",
       "   'Foreign': 0,\n",
       "   'TV Movie': 0},\n",
       "  'genre_freq_divided': {'Action': 5.233333333333334,\n",
       "   'Adventure': 3.2,\n",
       "   'Fantasy': 3.75,\n",
       "   'Science Fiction': 1.2,\n",
       "   'Crime': 0.75,\n",
       "   'Drama': 11.250000000000002,\n",
       "   'Thriller': 7.666666666666666,\n",
       "   'Animation': 0.8166666666666667,\n",
       "   'Family': 4.15,\n",
       "   'Western': 1.0,\n",
       "   'Comedy': 13.81666666666667,\n",
       "   'Romance': 5.999999999999999,\n",
       "   'Horror': 4.0,\n",
       "   'Mystery': 0.8333333333333333,\n",
       "   'History': 0.6666666666666666,\n",
       "   'War': 0,\n",
       "   'Music': 0.16666666666666666,\n",
       "   'Documentary': 0.5,\n",
       "   'Foreign': 0,\n",
       "   'TV Movie': 0}},\n",
       " 'Shashank': {'username': 'Sai Shashank',\n",
       "  'movie_ids': [109414,\n",
       "   57120,\n",
       "   9728,\n",
       "   21413,\n",
       "   9280,\n",
       "   325789,\n",
       "   260346,\n",
       "   9550,\n",
       "   14113,\n",
       "   51995,\n",
       "   45881,\n",
       "   12117,\n",
       "   700,\n",
       "   66,\n",
       "   433,\n",
       "   468,\n",
       "   9562,\n",
       "   51995,\n",
       "   2309,\n",
       "   9833,\n",
       "   22897,\n",
       "   13187,\n",
       "   4515,\n",
       "   33155],\n",
       "  'genre_freq': {'Action': 8,\n",
       "   'Adventure': 5,\n",
       "   'Fantasy': 3,\n",
       "   'Science Fiction': 2,\n",
       "   'Crime': 3,\n",
       "   'Drama': 12,\n",
       "   'Thriller': 10,\n",
       "   'Animation': 1,\n",
       "   'Family': 4,\n",
       "   'Western': 1,\n",
       "   'Comedy': 9,\n",
       "   'Romance': 7,\n",
       "   'Horror': 1,\n",
       "   'Mystery': 1,\n",
       "   'History': 1,\n",
       "   'War': 0,\n",
       "   'Music': 0,\n",
       "   'Documentary': 0,\n",
       "   'Foreign': 0,\n",
       "   'TV Movie': 1},\n",
       "  'genre_freq_divided': {'Action': 2.6666666666666665,\n",
       "   'Adventure': 1.4999999999999998,\n",
       "   'Fantasy': 1.0,\n",
       "   'Science Fiction': 0.8333333333333333,\n",
       "   'Crime': 1.0,\n",
       "   'Drama': 4.166666666666667,\n",
       "   'Thriller': 3.5000000000000004,\n",
       "   'Animation': 0.25,\n",
       "   'Family': 1.25,\n",
       "   'Western': 0.5,\n",
       "   'Comedy': 3.25,\n",
       "   'Romance': 2.75,\n",
       "   'Horror': 0.5,\n",
       "   'Mystery': 0.3333333333333333,\n",
       "   'History': 0.25,\n",
       "   'War': 0,\n",
       "   'Music': 0,\n",
       "   'Documentary': 0,\n",
       "   'Foreign': 0,\n",
       "   'TV Movie': 0.25}},\n",
       " 'dolton': {'genre_freq_divided': {'Science Fiction': 2.1166666666666663,\n",
       "   'TV Movie': 0,\n",
       "   'Family': 0.25,\n",
       "   'History': 0.5333333333333333,\n",
       "   'Drama': 4.433333333333334,\n",
       "   'Comedy': 6.616666666666667,\n",
       "   'War': 0,\n",
       "   'Horror': 3.6166666666666667,\n",
       "   'Romance': 2.433333333333333,\n",
       "   'Fantasy': 0.6166666666666667,\n",
       "   'Music': 0.7,\n",
       "   'Foreign': 0,\n",
       "   'Action': 4.15,\n",
       "   'Mystery': 1.4000000000000001,\n",
       "   'Western': 1.2,\n",
       "   'Crime': 1.0,\n",
       "   'Thriller': 3.066666666666667,\n",
       "   'Animation': 0,\n",
       "   'Documentary': 2.0,\n",
       "   'Adventure': 1.8666666666666667},\n",
       "  'genre_freq': {'Science Fiction': 7,\n",
       "   'TV Movie': 0,\n",
       "   'Family': 1,\n",
       "   'History': 2,\n",
       "   'Drama': 12,\n",
       "   'Comedy': 15,\n",
       "   'War': 0,\n",
       "   'Horror': 9,\n",
       "   'Romance': 9,\n",
       "   'Fantasy': 3,\n",
       "   'Music': 2,\n",
       "   'Foreign': 0,\n",
       "   'Action': 11,\n",
       "   'Mystery': 5,\n",
       "   'Western': 2,\n",
       "   'Crime': 3,\n",
       "   'Thriller': 9,\n",
       "   'Animation': 0,\n",
       "   'Documentary': 2,\n",
       "   'Adventure': 7},\n",
       "  'username': 'dolton',\n",
       "  'movie_ids': [139715,\n",
       "   21208,\n",
       "   14869,\n",
       "   11217,\n",
       "   76487,\n",
       "   49521,\n",
       "   2575,\n",
       "   331745,\n",
       "   9362,\n",
       "   367551,\n",
       "   1544,\n",
       "   192134,\n",
       "   127918,\n",
       "   9582,\n",
       "   59,\n",
       "   10003,\n",
       "   11375,\n",
       "   8456,\n",
       "   16388,\n",
       "   329,\n",
       "   18841,\n",
       "   14283,\n",
       "   9624,\n",
       "   226486,\n",
       "   11637,\n",
       "   28260,\n",
       "   45649,\n",
       "   60309,\n",
       "   218500,\n",
       "   22804,\n",
       "   12621,\n",
       "   14877,\n",
       "   11007,\n",
       "   123553,\n",
       "   39269,\n",
       "   16995]},\n",
       " 'tirth': {'username': 'ttirth',\n",
       "  'movie_ids': [4234,\n",
       "   26389,\n",
       "   14429,\n",
       "   28211,\n",
       "   10806,\n",
       "   144340,\n",
       "   146,\n",
       "   36668,\n",
       "   9455,\n",
       "   283445,\n",
       "   9587,\n",
       "   17926,\n",
       "   66125,\n",
       "   157909,\n",
       "   64499,\n",
       "   280092,\n",
       "   283445,\n",
       "   75656,\n",
       "   1257,\n",
       "   49521,\n",
       "   36549,\n",
       "   10202,\n",
       "   51540,\n",
       "   76494,\n",
       "   72190,\n",
       "   44564,\n",
       "   26428,\n",
       "   9682,\n",
       "   9988,\n",
       "   30309,\n",
       "   9672,\n",
       "   17113,\n",
       "   36658,\n",
       "   89750,\n",
       "   68718,\n",
       "   2009,\n",
       "   24424,\n",
       "   1273,\n",
       "   39939,\n",
       "   66607,\n",
       "   9656,\n",
       "   27936,\n",
       "   26916,\n",
       "   2895,\n",
       "   14014,\n",
       "   38303,\n",
       "   18238,\n",
       "   18828,\n",
       "   2662,\n",
       "   389,\n",
       "   4011,\n",
       "   49530,\n",
       "   9693,\n",
       "   951,\n",
       "   36355,\n",
       "   9312,\n",
       "   257211,\n",
       "   9389,\n",
       "   129139,\n",
       "   332411,\n",
       "   105864,\n",
       "   9012,\n",
       "   184345,\n",
       "   241259,\n",
       "   211557,\n",
       "   11531],\n",
       "  'genre_freq': {'Action': 16,\n",
       "   'Adventure': 10,\n",
       "   'Fantasy': 5,\n",
       "   'Science Fiction': 9,\n",
       "   'Crime': 8,\n",
       "   'Drama': 26,\n",
       "   'Thriller': 16,\n",
       "   'Animation': 3,\n",
       "   'Family': 6,\n",
       "   'Western': 1,\n",
       "   'Comedy': 26,\n",
       "   'Romance': 11,\n",
       "   'Horror': 12,\n",
       "   'Mystery': 6,\n",
       "   'History': 1,\n",
       "   'War': 0,\n",
       "   'Music': 0,\n",
       "   'Documentary': 2,\n",
       "   'Foreign': 1,\n",
       "   'TV Movie': 0},\n",
       "  'genre_freq_divided': {'Action': 4.65,\n",
       "   'Adventure': 2.95,\n",
       "   'Fantasy': 2.5,\n",
       "   'Science Fiction': 2.6166666666666667,\n",
       "   'Crime': 3.0,\n",
       "   'Drama': 12.983333333333333,\n",
       "   'Thriller': 5.366666666666666,\n",
       "   'Animation': 0.9166666666666665,\n",
       "   'Family': 1.9166666666666665,\n",
       "   'Western': 0.5,\n",
       "   'Comedy': 13.45,\n",
       "   'Romance': 4.116666666666667,\n",
       "   'Horror': 6.866666666666666,\n",
       "   'Mystery': 1.9999999999999998,\n",
       "   'History': 0.3333333333333333,\n",
       "   'War': 0,\n",
       "   'Music': 0,\n",
       "   'Documentary': 1.5,\n",
       "   'Foreign': 0.3333333333333333,\n",
       "   'TV Movie': 0}},\n",
       " 'yoogottamk': {'username': 'yoogottamk',\n",
       "  'movie_ids': [14337,\n",
       "   320435,\n",
       "   8643,\n",
       "   329,\n",
       "   35169,\n",
       "   11170,\n",
       "   49963,\n",
       "   75033,\n",
       "   20766,\n",
       "   788,\n",
       "   224569,\n",
       "   46415,\n",
       "   22787,\n",
       "   20083,\n",
       "   55720,\n",
       "   8373,\n",
       "   4929,\n",
       "   5172,\n",
       "   352978,\n",
       "   39800,\n",
       "   209403,\n",
       "   2830,\n",
       "   81836,\n",
       "   77866,\n",
       "   20083,\n",
       "   92591,\n",
       "   133931,\n",
       "   23685,\n",
       "   20406,\n",
       "   326576,\n",
       "   1726,\n",
       "   13700,\n",
       "   8408,\n",
       "   38745,\n",
       "   4806,\n",
       "   19724,\n",
       "   22894,\n",
       "   18240,\n",
       "   287625,\n",
       "   417859,\n",
       "   11442,\n",
       "   13501,\n",
       "   10588],\n",
       "  'genre_freq': {'Action': 11,\n",
       "   'Adventure': 10,\n",
       "   'Fantasy': 4,\n",
       "   'Science Fiction': 7,\n",
       "   'Crime': 7,\n",
       "   'Drama': 19,\n",
       "   'Thriller': 10,\n",
       "   'Animation': 4,\n",
       "   'Family': 5,\n",
       "   'Western': 1,\n",
       "   'Comedy': 19,\n",
       "   'Romance': 7,\n",
       "   'Horror': 4,\n",
       "   'Mystery': 1,\n",
       "   'History': 0,\n",
       "   'War': 0,\n",
       "   'Music': 1,\n",
       "   'Documentary': 0,\n",
       "   'Foreign': 0,\n",
       "   'TV Movie': 0},\n",
       "  'genre_freq_divided': {'Action': 2.983333333333334,\n",
       "   'Adventure': 3.233333333333334,\n",
       "   'Fantasy': 0.9333333333333333,\n",
       "   'Science Fiction': 2.583333333333333,\n",
       "   'Crime': 1.8333333333333333,\n",
       "   'Drama': 8.783333333333331,\n",
       "   'Thriller': 3.0,\n",
       "   'Animation': 1.15,\n",
       "   'Family': 1.6166666666666665,\n",
       "   'Western': 1.0,\n",
       "   'Comedy': 9.316666666666666,\n",
       "   'Romance': 2.8666666666666667,\n",
       "   'Horror': 2.25,\n",
       "   'Mystery': 0.25,\n",
       "   'History': 0,\n",
       "   'War': 0,\n",
       "   'Music': 0.2,\n",
       "   'Documentary': 0,\n",
       "   'Foreign': 0,\n",
       "   'TV Movie': 0}},\n",
       " 'Ammar': {'username': 'Ammar',\n",
       "  'movie_ids': [76489,\n",
       "   9923,\n",
       "   1777,\n",
       "   157849,\n",
       "   2698,\n",
       "   745,\n",
       "   354624,\n",
       "   100402,\n",
       "   451,\n",
       "   283671,\n",
       "   38665,\n",
       "   26390,\n",
       "   17663,\n",
       "   90414,\n",
       "   177572,\n",
       "   77948,\n",
       "   1934,\n",
       "   1951,\n",
       "   5551,\n",
       "   6538,\n",
       "   168530,\n",
       "   14758,\n",
       "   323677,\n",
       "   188207,\n",
       "   172533,\n",
       "   16577,\n",
       "   8859,\n",
       "   205584,\n",
       "   100042,\n",
       "   38358,\n",
       "   58574,\n",
       "   10590,\n",
       "   18360,\n",
       "   935,\n",
       "   36819,\n",
       "   2661,\n",
       "   415,\n",
       "   80274,\n",
       "   4248,\n",
       "   142061,\n",
       "   7737,\n",
       "   128,\n",
       "   9802,\n",
       "   9819,\n",
       "   4148,\n",
       "   956,\n",
       "   10674,\n",
       "   27686,\n",
       "   10358,\n",
       "   37710,\n",
       "   3083,\n",
       "   431,\n",
       "   594,\n",
       "   218,\n",
       "   480,\n",
       "   72559,\n",
       "   13475,\n",
       "   49444,\n",
       "   8848,\n",
       "   20526,\n",
       "   135595,\n",
       "   49026,\n",
       "   325140,\n",
       "   250184,\n",
       "   16988],\n",
       "  'genre_freq': {'Action': 26,\n",
       "   'Adventure': 18,\n",
       "   'Fantasy': 6,\n",
       "   'Science Fiction': 11,\n",
       "   'Crime': 7,\n",
       "   'Drama': 22,\n",
       "   'Thriller': 16,\n",
       "   'Animation': 7,\n",
       "   'Family': 10,\n",
       "   'Western': 1,\n",
       "   'Comedy': 18,\n",
       "   'Romance': 10,\n",
       "   'Horror': 3,\n",
       "   'Mystery': 3,\n",
       "   'History': 3,\n",
       "   'War': 2,\n",
       "   'Music': 1,\n",
       "   'Documentary': 1,\n",
       "   'Foreign': 0,\n",
       "   'TV Movie': 0},\n",
       "  'genre_freq_divided': {'Action': 9.149999999999999,\n",
       "   'Adventure': 5.383333333333334,\n",
       "   'Fantasy': 2.4,\n",
       "   'Science Fiction': 3.2333333333333334,\n",
       "   'Crime': 2.1999999999999997,\n",
       "   'Drama': 10.750000000000002,\n",
       "   'Thriller': 6.166666666666666,\n",
       "   'Animation': 2.4499999999999997,\n",
       "   'Family': 3.0500000000000003,\n",
       "   'Western': 0.25,\n",
       "   'Comedy': 9.466666666666667,\n",
       "   'Romance': 4.25,\n",
       "   'Horror': 1.0,\n",
       "   'Mystery': 0.9166666666666665,\n",
       "   'History': 1.1666666666666665,\n",
       "   'War': 0.6666666666666666,\n",
       "   'Music': 0.5,\n",
       "   'Documentary': 1.0,\n",
       "   'Foreign': 0,\n",
       "   'TV Movie': 0}},\n",
       " 'Aman': {'username': 'Aman',\n",
       "  'movie_ids': [692,\n",
       "   1921,\n",
       "   14434,\n",
       "   21610,\n",
       "   80274,\n",
       "   12100,\n",
       "   4997,\n",
       "   10140,\n",
       "   43947,\n",
       "   16651,\n",
       "   16769,\n",
       "   10628,\n",
       "   10393,\n",
       "   65203,\n",
       "   36825,\n",
       "   13963,\n",
       "   21301,\n",
       "   84318,\n",
       "   7510,\n",
       "   11184,\n",
       "   304357,\n",
       "   302688,\n",
       "   1125,\n",
       "   319069,\n",
       "   206647,\n",
       "   8452,\n",
       "   22832,\n",
       "   5689,\n",
       "   48138,\n",
       "   34341,\n",
       "   9928,\n",
       "   563,\n",
       "   557,\n",
       "   14578,\n",
       "   16608,\n",
       "   38117,\n",
       "   2275,\n",
       "   542,\n",
       "   133694,\n",
       "   8987,\n",
       "   9823,\n",
       "   43593,\n",
       "   20009,\n",
       "   280092,\n",
       "   11382,\n",
       "   55180,\n",
       "   119458,\n",
       "   208869,\n",
       "   10786,\n",
       "   28053,\n",
       "   284,\n",
       "   22794,\n",
       "   676,\n",
       "   985,\n",
       "   22314,\n",
       "   2502,\n",
       "   4327,\n",
       "   39180,\n",
       "   2294,\n",
       "   4997,\n",
       "   50321,\n",
       "   45132,\n",
       "   15797,\n",
       "   13001,\n",
       "   232679,\n",
       "   10437,\n",
       "   5722,\n",
       "   227975,\n",
       "   25983,\n",
       "   218500,\n",
       "   12271,\n",
       "   37080],\n",
       "  'genre_freq': {'Action': 21,\n",
       "   'Adventure': 13,\n",
       "   'Fantasy': 6,\n",
       "   'Science Fiction': 7,\n",
       "   'Crime': 15,\n",
       "   'Drama': 35,\n",
       "   'Thriller': 17,\n",
       "   'Animation': 3,\n",
       "   'Family': 9,\n",
       "   'Western': 2,\n",
       "   'Comedy': 25,\n",
       "   'Romance': 13,\n",
       "   'Horror': 6,\n",
       "   'Mystery': 5,\n",
       "   'History': 3,\n",
       "   'War': 2,\n",
       "   'Music': 3,\n",
       "   'Documentary': 3,\n",
       "   'Foreign': 0,\n",
       "   'TV Movie': 0},\n",
       "  'genre_freq_divided': {'Action': 6.949999999999999,\n",
       "   'Adventure': 3.8666666666666667,\n",
       "   'Fantasy': 1.9999999999999998,\n",
       "   'Science Fiction': 2.9166666666666665,\n",
       "   'Crime': 4.2,\n",
       "   'Drama': 16.66666666666667,\n",
       "   'Thriller': 5.533333333333333,\n",
       "   'Animation': 0.9166666666666665,\n",
       "   'Family': 2.75,\n",
       "   'Western': 1.1666666666666667,\n",
       "   'Comedy': 11.116666666666669,\n",
       "   'Romance': 5.083333333333333,\n",
       "   'Horror': 2.25,\n",
       "   'Mystery': 1.5833333333333333,\n",
       "   'History': 1.0833333333333333,\n",
       "   'War': 0.5833333333333333,\n",
       "   'Music': 1.3333333333333333,\n",
       "   'Documentary': 2.0,\n",
       "   'Foreign': 0,\n",
       "   'TV Movie': 0}},\n",
       " 'abhishek': {'username': 'abhishek',\n",
       "  'movie_ids': [12113,\n",
       "   14012,\n",
       "   18869,\n",
       "   2062,\n",
       "   120,\n",
       "   1024,\n",
       "   11191,\n",
       "   25793,\n",
       "   155,\n",
       "   33155,\n",
       "   394047,\n",
       "   4638,\n",
       "   65086,\n",
       "   68179,\n",
       "   9754,\n",
       "   33511,\n",
       "   11322,\n",
       "   4512,\n",
       "   39437,\n",
       "   9716,\n",
       "   29015,\n",
       "   131631,\n",
       "   59967,\n",
       "   2122,\n",
       "   1858,\n",
       "   64685,\n",
       "   22074,\n",
       "   820,\n",
       "   58595,\n",
       "   210860,\n",
       "   691,\n",
       "   107846,\n",
       "   2295,\n",
       "   129,\n",
       "   11887,\n",
       "   291870,\n",
       "   31005,\n",
       "   36549,\n",
       "   64685,\n",
       "   38050,\n",
       "   356483,\n",
       "   48572,\n",
       "   140823,\n",
       "   7303,\n",
       "   14411,\n",
       "   14165,\n",
       "   36046,\n",
       "   9383,\n",
       "   216282,\n",
       "   86825,\n",
       "   12227,\n",
       "   41154,\n",
       "   9526,\n",
       "   1389,\n",
       "   110683,\n",
       "   45138,\n",
       "   11308,\n",
       "   9093,\n",
       "   27569,\n",
       "   13836,\n",
       "   5854,\n",
       "   8875,\n",
       "   84188,\n",
       "   9896,\n",
       "   106845,\n",
       "   240,\n",
       "   7516,\n",
       "   10661,\n",
       "   320],\n",
       "  'genre_freq': {'Action': 21,\n",
       "   'Adventure': 14,\n",
       "   'Fantasy': 6,\n",
       "   'Science Fiction': 11,\n",
       "   'Crime': 12,\n",
       "   'Drama': 33,\n",
       "   'Thriller': 26,\n",
       "   'Animation': 4,\n",
       "   'Family': 8,\n",
       "   'Western': 1,\n",
       "   'Comedy': 23,\n",
       "   'Romance': 10,\n",
       "   'Horror': 6,\n",
       "   'Mystery': 2,\n",
       "   'History': 3,\n",
       "   'War': 1,\n",
       "   'Music': 3,\n",
       "   'Documentary': 1,\n",
       "   'Foreign': 1,\n",
       "   'TV Movie': 0},\n",
       "  'genre_freq_divided': {'Action': 7.033333333333333,\n",
       "   'Adventure': 4.616666666666667,\n",
       "   'Fantasy': 1.8333333333333333,\n",
       "   'Science Fiction': 3.6166666666666667,\n",
       "   'Crime': 3.7833333333333337,\n",
       "   'Drama': 16.15,\n",
       "   'Thriller': 9.366666666666667,\n",
       "   'Animation': 1.0333333333333332,\n",
       "   'Family': 1.9833333333333332,\n",
       "   'Western': 0.3333333333333333,\n",
       "   'Comedy': 9.566666666666665,\n",
       "   'Romance': 3.45,\n",
       "   'Horror': 2.333333333333333,\n",
       "   'Mystery': 0.5833333333333333,\n",
       "   'History': 1.0,\n",
       "   'War': 0.25,\n",
       "   'Music': 0.8666666666666667,\n",
       "   'Documentary': 1.0,\n",
       "   'Foreign': 0.2,\n",
       "   'TV Movie': 0}},\n",
       " 'ayan': {'username': 'Ayan',\n",
       "  'movie_ids': [9515,\n",
       "   36668,\n",
       "   1651,\n",
       "   96724,\n",
       "   215924,\n",
       "   10393,\n",
       "   13490,\n",
       "   190955,\n",
       "   496,\n",
       "   218043,\n",
       "   46528,\n",
       "   21014,\n",
       "   9787,\n",
       "   9893,\n",
       "   47890,\n",
       "   38970,\n",
       "   8272,\n",
       "   77459,\n",
       "   13569,\n",
       "   44113,\n",
       "   398,\n",
       "   1487,\n",
       "   11033,\n",
       "   27845,\n",
       "   12163,\n",
       "   3028,\n",
       "   24869,\n",
       "   13503,\n",
       "   100275,\n",
       "   13495],\n",
       "  'genre_freq': {'Action': 8,\n",
       "   'Adventure': 4,\n",
       "   'Fantasy': 4,\n",
       "   'Science Fiction': 4,\n",
       "   'Crime': 4,\n",
       "   'Drama': 14,\n",
       "   'Thriller': 8,\n",
       "   'Animation': 1,\n",
       "   'Family': 2,\n",
       "   'Western': 2,\n",
       "   'Comedy': 12,\n",
       "   'Romance': 4,\n",
       "   'Horror': 4,\n",
       "   'Mystery': 2,\n",
       "   'History': 0,\n",
       "   'War': 0,\n",
       "   'Music': 0,\n",
       "   'Documentary': 0,\n",
       "   'Foreign': 0,\n",
       "   'TV Movie': 0},\n",
       "  'genre_freq_divided': {'Action': 3.3166666666666664,\n",
       "   'Adventure': 0.9833333333333334,\n",
       "   'Fantasy': 1.2333333333333334,\n",
       "   'Science Fiction': 1.2499999999999998,\n",
       "   'Crime': 1.3666666666666667,\n",
       "   'Drama': 7.533333333333333,\n",
       "   'Thriller': 2.3166666666666664,\n",
       "   'Animation': 0.2,\n",
       "   'Family': 0.7,\n",
       "   'Western': 0.7,\n",
       "   'Comedy': 6.566666666666666,\n",
       "   'Romance': 1.6666666666666665,\n",
       "   'Horror': 1.5,\n",
       "   'Mystery': 0.6666666666666666,\n",
       "   'History': 0,\n",
       "   'War': 0,\n",
       "   'Music': 0,\n",
       "   'Documentary': 0,\n",
       "   'Foreign': 0,\n",
       "   'TV Movie': 0}}}"
      ]
     },
     "execution_count": 56,
     "metadata": {},
     "output_type": "execute_result"
    }
   ],
   "source": [
    "vectors"
   ]
  },
  {
   "cell_type": "code",
   "execution_count": 80,
   "metadata": {},
   "outputs": [],
   "source": [
    "X_ = [(sorted(x['genre_freq_divided'].items(),key = lambda x: x[0]),x['username']) for y,x in vectors.items()]\n",
    "names = [x[1] for x in X_]\n",
    "X_ = [x[0] for x in X_]"
   ]
  },
  {
   "cell_type": "code",
   "execution_count": 81,
   "metadata": {},
   "outputs": [
    {
     "data": {
      "text/plain": [
       "[[('Action', 5.233333333333334),\n",
       "  ('Adventure', 3.2),\n",
       "  ('Animation', 0.8166666666666667),\n",
       "  ('Comedy', 13.81666666666667),\n",
       "  ('Crime', 0.75),\n",
       "  ('Documentary', 0.5),\n",
       "  ('Drama', 11.250000000000002),\n",
       "  ('Family', 4.15),\n",
       "  ('Fantasy', 3.75),\n",
       "  ('Foreign', 0),\n",
       "  ('History', 0.6666666666666666),\n",
       "  ('Horror', 4.0),\n",
       "  ('Music', 0.16666666666666666),\n",
       "  ('Mystery', 0.8333333333333333),\n",
       "  ('Romance', 5.999999999999999),\n",
       "  ('Science Fiction', 1.2),\n",
       "  ('TV Movie', 0),\n",
       "  ('Thriller', 7.666666666666666),\n",
       "  ('War', 0),\n",
       "  ('Western', 1.0)],\n",
       " [('Action', 2.6666666666666665),\n",
       "  ('Adventure', 1.4999999999999998),\n",
       "  ('Animation', 0.25),\n",
       "  ('Comedy', 3.25),\n",
       "  ('Crime', 1.0),\n",
       "  ('Documentary', 0),\n",
       "  ('Drama', 4.166666666666667),\n",
       "  ('Family', 1.25),\n",
       "  ('Fantasy', 1.0),\n",
       "  ('Foreign', 0),\n",
       "  ('History', 0.25),\n",
       "  ('Horror', 0.5),\n",
       "  ('Music', 0),\n",
       "  ('Mystery', 0.3333333333333333),\n",
       "  ('Romance', 2.75),\n",
       "  ('Science Fiction', 0.8333333333333333),\n",
       "  ('TV Movie', 0.25),\n",
       "  ('Thriller', 3.5000000000000004),\n",
       "  ('War', 0),\n",
       "  ('Western', 0.5)],\n",
       " [('Action', 4.15),\n",
       "  ('Adventure', 1.8666666666666667),\n",
       "  ('Animation', 0),\n",
       "  ('Comedy', 6.616666666666667),\n",
       "  ('Crime', 1.0),\n",
       "  ('Documentary', 2.0),\n",
       "  ('Drama', 4.433333333333334),\n",
       "  ('Family', 0.25),\n",
       "  ('Fantasy', 0.6166666666666667),\n",
       "  ('Foreign', 0),\n",
       "  ('History', 0.5333333333333333),\n",
       "  ('Horror', 3.6166666666666667),\n",
       "  ('Music', 0.7),\n",
       "  ('Mystery', 1.4000000000000001),\n",
       "  ('Romance', 2.433333333333333),\n",
       "  ('Science Fiction', 2.1166666666666663),\n",
       "  ('TV Movie', 0),\n",
       "  ('Thriller', 3.066666666666667),\n",
       "  ('War', 0),\n",
       "  ('Western', 1.2)],\n",
       " [('Action', 4.65),\n",
       "  ('Adventure', 2.95),\n",
       "  ('Animation', 0.9166666666666665),\n",
       "  ('Comedy', 13.45),\n",
       "  ('Crime', 3.0),\n",
       "  ('Documentary', 1.5),\n",
       "  ('Drama', 12.983333333333333),\n",
       "  ('Family', 1.9166666666666665),\n",
       "  ('Fantasy', 2.5),\n",
       "  ('Foreign', 0.3333333333333333),\n",
       "  ('History', 0.3333333333333333),\n",
       "  ('Horror', 6.866666666666666),\n",
       "  ('Music', 0),\n",
       "  ('Mystery', 1.9999999999999998),\n",
       "  ('Romance', 4.116666666666667),\n",
       "  ('Science Fiction', 2.6166666666666667),\n",
       "  ('TV Movie', 0),\n",
       "  ('Thriller', 5.366666666666666),\n",
       "  ('War', 0),\n",
       "  ('Western', 0.5)],\n",
       " [('Action', 2.983333333333334),\n",
       "  ('Adventure', 3.233333333333334),\n",
       "  ('Animation', 1.15),\n",
       "  ('Comedy', 9.316666666666666),\n",
       "  ('Crime', 1.8333333333333333),\n",
       "  ('Documentary', 0),\n",
       "  ('Drama', 8.783333333333331),\n",
       "  ('Family', 1.6166666666666665),\n",
       "  ('Fantasy', 0.9333333333333333),\n",
       "  ('Foreign', 0),\n",
       "  ('History', 0),\n",
       "  ('Horror', 2.25),\n",
       "  ('Music', 0.2),\n",
       "  ('Mystery', 0.25),\n",
       "  ('Romance', 2.8666666666666667),\n",
       "  ('Science Fiction', 2.583333333333333),\n",
       "  ('TV Movie', 0),\n",
       "  ('Thriller', 3.0),\n",
       "  ('War', 0),\n",
       "  ('Western', 1.0)],\n",
       " [('Action', 9.149999999999999),\n",
       "  ('Adventure', 5.383333333333334),\n",
       "  ('Animation', 2.4499999999999997),\n",
       "  ('Comedy', 9.466666666666667),\n",
       "  ('Crime', 2.1999999999999997),\n",
       "  ('Documentary', 1.0),\n",
       "  ('Drama', 10.750000000000002),\n",
       "  ('Family', 3.0500000000000003),\n",
       "  ('Fantasy', 2.4),\n",
       "  ('Foreign', 0),\n",
       "  ('History', 1.1666666666666665),\n",
       "  ('Horror', 1.0),\n",
       "  ('Music', 0.5),\n",
       "  ('Mystery', 0.9166666666666665),\n",
       "  ('Romance', 4.25),\n",
       "  ('Science Fiction', 3.2333333333333334),\n",
       "  ('TV Movie', 0),\n",
       "  ('Thriller', 6.166666666666666),\n",
       "  ('War', 0.6666666666666666),\n",
       "  ('Western', 0.25)],\n",
       " [('Action', 6.949999999999999),\n",
       "  ('Adventure', 3.8666666666666667),\n",
       "  ('Animation', 0.9166666666666665),\n",
       "  ('Comedy', 11.116666666666669),\n",
       "  ('Crime', 4.2),\n",
       "  ('Documentary', 2.0),\n",
       "  ('Drama', 16.66666666666667),\n",
       "  ('Family', 2.75),\n",
       "  ('Fantasy', 1.9999999999999998),\n",
       "  ('Foreign', 0),\n",
       "  ('History', 1.0833333333333333),\n",
       "  ('Horror', 2.25),\n",
       "  ('Music', 1.3333333333333333),\n",
       "  ('Mystery', 1.5833333333333333),\n",
       "  ('Romance', 5.083333333333333),\n",
       "  ('Science Fiction', 2.9166666666666665),\n",
       "  ('TV Movie', 0),\n",
       "  ('Thriller', 5.533333333333333),\n",
       "  ('War', 0.5833333333333333),\n",
       "  ('Western', 1.1666666666666667)],\n",
       " [('Action', 7.033333333333333),\n",
       "  ('Adventure', 4.616666666666667),\n",
       "  ('Animation', 1.0333333333333332),\n",
       "  ('Comedy', 9.566666666666665),\n",
       "  ('Crime', 3.7833333333333337),\n",
       "  ('Documentary', 1.0),\n",
       "  ('Drama', 16.15),\n",
       "  ('Family', 1.9833333333333332),\n",
       "  ('Fantasy', 1.8333333333333333),\n",
       "  ('Foreign', 0.2),\n",
       "  ('History', 1.0),\n",
       "  ('Horror', 2.333333333333333),\n",
       "  ('Music', 0.8666666666666667),\n",
       "  ('Mystery', 0.5833333333333333),\n",
       "  ('Romance', 3.45),\n",
       "  ('Science Fiction', 3.6166666666666667),\n",
       "  ('TV Movie', 0),\n",
       "  ('Thriller', 9.366666666666667),\n",
       "  ('War', 0.25),\n",
       "  ('Western', 0.3333333333333333)],\n",
       " [('Action', 3.3166666666666664),\n",
       "  ('Adventure', 0.9833333333333334),\n",
       "  ('Animation', 0.2),\n",
       "  ('Comedy', 6.566666666666666),\n",
       "  ('Crime', 1.3666666666666667),\n",
       "  ('Documentary', 0),\n",
       "  ('Drama', 7.533333333333333),\n",
       "  ('Family', 0.7),\n",
       "  ('Fantasy', 1.2333333333333334),\n",
       "  ('Foreign', 0),\n",
       "  ('History', 0),\n",
       "  ('Horror', 1.5),\n",
       "  ('Music', 0),\n",
       "  ('Mystery', 0.6666666666666666),\n",
       "  ('Romance', 1.6666666666666665),\n",
       "  ('Science Fiction', 1.2499999999999998),\n",
       "  ('TV Movie', 0),\n",
       "  ('Thriller', 2.3166666666666664),\n",
       "  ('War', 0),\n",
       "  ('Western', 0.7)]]"
      ]
     },
     "execution_count": 81,
     "metadata": {},
     "output_type": "execute_result"
    }
   ],
   "source": [
    "X_"
   ]
  },
  {
   "cell_type": "code",
   "execution_count": 82,
   "metadata": {},
   "outputs": [],
   "source": [
    "X = np.array(X_)"
   ]
  },
  {
   "cell_type": "code",
   "execution_count": 83,
   "metadata": {},
   "outputs": [
    {
     "data": {
      "text/plain": [
       "array([[['Action', '5.233333333333334'],\n",
       "        ['Adventure', '3.2'],\n",
       "        ['Animation', '0.8166666666666667'],\n",
       "        ['Comedy', '13.81666666666667'],\n",
       "        ['Crime', '0.75'],\n",
       "        ['Documentary', '0.5'],\n",
       "        ['Drama', '11.250000000000002'],\n",
       "        ['Family', '4.15'],\n",
       "        ['Fantasy', '3.75'],\n",
       "        ['Foreign', '0'],\n",
       "        ['History', '0.6666666666666666'],\n",
       "        ['Horror', '4.0'],\n",
       "        ['Music', '0.16666666666666666'],\n",
       "        ['Mystery', '0.8333333333333333'],\n",
       "        ['Romance', '5.999999999999999'],\n",
       "        ['Science Fiction', '1.2'],\n",
       "        ['TV Movie', '0'],\n",
       "        ['Thriller', '7.666666666666666'],\n",
       "        ['War', '0'],\n",
       "        ['Western', '1.0']],\n",
       "\n",
       "       [['Action', '2.6666666666666665'],\n",
       "        ['Adventure', '1.4999999999999998'],\n",
       "        ['Animation', '0.25'],\n",
       "        ['Comedy', '3.25'],\n",
       "        ['Crime', '1.0'],\n",
       "        ['Documentary', '0'],\n",
       "        ['Drama', '4.166666666666667'],\n",
       "        ['Family', '1.25'],\n",
       "        ['Fantasy', '1.0'],\n",
       "        ['Foreign', '0'],\n",
       "        ['History', '0.25'],\n",
       "        ['Horror', '0.5'],\n",
       "        ['Music', '0'],\n",
       "        ['Mystery', '0.3333333333333333'],\n",
       "        ['Romance', '2.75'],\n",
       "        ['Science Fiction', '0.8333333333333333'],\n",
       "        ['TV Movie', '0.25'],\n",
       "        ['Thriller', '3.5000000000000004'],\n",
       "        ['War', '0'],\n",
       "        ['Western', '0.5']],\n",
       "\n",
       "       [['Action', '4.15'],\n",
       "        ['Adventure', '1.8666666666666667'],\n",
       "        ['Animation', '0'],\n",
       "        ['Comedy', '6.616666666666667'],\n",
       "        ['Crime', '1.0'],\n",
       "        ['Documentary', '2.0'],\n",
       "        ['Drama', '4.433333333333334'],\n",
       "        ['Family', '0.25'],\n",
       "        ['Fantasy', '0.6166666666666667'],\n",
       "        ['Foreign', '0'],\n",
       "        ['History', '0.5333333333333333'],\n",
       "        ['Horror', '3.6166666666666667'],\n",
       "        ['Music', '0.7'],\n",
       "        ['Mystery', '1.4000000000000001'],\n",
       "        ['Romance', '2.433333333333333'],\n",
       "        ['Science Fiction', '2.1166666666666663'],\n",
       "        ['TV Movie', '0'],\n",
       "        ['Thriller', '3.066666666666667'],\n",
       "        ['War', '0'],\n",
       "        ['Western', '1.2']],\n",
       "\n",
       "       [['Action', '4.65'],\n",
       "        ['Adventure', '2.95'],\n",
       "        ['Animation', '0.9166666666666665'],\n",
       "        ['Comedy', '13.45'],\n",
       "        ['Crime', '3.0'],\n",
       "        ['Documentary', '1.5'],\n",
       "        ['Drama', '12.983333333333333'],\n",
       "        ['Family', '1.9166666666666665'],\n",
       "        ['Fantasy', '2.5'],\n",
       "        ['Foreign', '0.3333333333333333'],\n",
       "        ['History', '0.3333333333333333'],\n",
       "        ['Horror', '6.866666666666666'],\n",
       "        ['Music', '0'],\n",
       "        ['Mystery', '1.9999999999999998'],\n",
       "        ['Romance', '4.116666666666667'],\n",
       "        ['Science Fiction', '2.6166666666666667'],\n",
       "        ['TV Movie', '0'],\n",
       "        ['Thriller', '5.366666666666666'],\n",
       "        ['War', '0'],\n",
       "        ['Western', '0.5']],\n",
       "\n",
       "       [['Action', '2.983333333333334'],\n",
       "        ['Adventure', '3.233333333333334'],\n",
       "        ['Animation', '1.15'],\n",
       "        ['Comedy', '9.316666666666666'],\n",
       "        ['Crime', '1.8333333333333333'],\n",
       "        ['Documentary', '0'],\n",
       "        ['Drama', '8.783333333333331'],\n",
       "        ['Family', '1.6166666666666665'],\n",
       "        ['Fantasy', '0.9333333333333333'],\n",
       "        ['Foreign', '0'],\n",
       "        ['History', '0'],\n",
       "        ['Horror', '2.25'],\n",
       "        ['Music', '0.2'],\n",
       "        ['Mystery', '0.25'],\n",
       "        ['Romance', '2.8666666666666667'],\n",
       "        ['Science Fiction', '2.583333333333333'],\n",
       "        ['TV Movie', '0'],\n",
       "        ['Thriller', '3.0'],\n",
       "        ['War', '0'],\n",
       "        ['Western', '1.0']],\n",
       "\n",
       "       [['Action', '9.149999999999999'],\n",
       "        ['Adventure', '5.383333333333334'],\n",
       "        ['Animation', '2.4499999999999997'],\n",
       "        ['Comedy', '9.466666666666667'],\n",
       "        ['Crime', '2.1999999999999997'],\n",
       "        ['Documentary', '1.0'],\n",
       "        ['Drama', '10.750000000000002'],\n",
       "        ['Family', '3.0500000000000003'],\n",
       "        ['Fantasy', '2.4'],\n",
       "        ['Foreign', '0'],\n",
       "        ['History', '1.1666666666666665'],\n",
       "        ['Horror', '1.0'],\n",
       "        ['Music', '0.5'],\n",
       "        ['Mystery', '0.9166666666666665'],\n",
       "        ['Romance', '4.25'],\n",
       "        ['Science Fiction', '3.2333333333333334'],\n",
       "        ['TV Movie', '0'],\n",
       "        ['Thriller', '6.166666666666666'],\n",
       "        ['War', '0.6666666666666666'],\n",
       "        ['Western', '0.25']],\n",
       "\n",
       "       [['Action', '6.949999999999999'],\n",
       "        ['Adventure', '3.8666666666666667'],\n",
       "        ['Animation', '0.9166666666666665'],\n",
       "        ['Comedy', '11.116666666666669'],\n",
       "        ['Crime', '4.2'],\n",
       "        ['Documentary', '2.0'],\n",
       "        ['Drama', '16.66666666666667'],\n",
       "        ['Family', '2.75'],\n",
       "        ['Fantasy', '1.9999999999999998'],\n",
       "        ['Foreign', '0'],\n",
       "        ['History', '1.0833333333333333'],\n",
       "        ['Horror', '2.25'],\n",
       "        ['Music', '1.3333333333333333'],\n",
       "        ['Mystery', '1.5833333333333333'],\n",
       "        ['Romance', '5.083333333333333'],\n",
       "        ['Science Fiction', '2.9166666666666665'],\n",
       "        ['TV Movie', '0'],\n",
       "        ['Thriller', '5.533333333333333'],\n",
       "        ['War', '0.5833333333333333'],\n",
       "        ['Western', '1.1666666666666667']],\n",
       "\n",
       "       [['Action', '7.033333333333333'],\n",
       "        ['Adventure', '4.616666666666667'],\n",
       "        ['Animation', '1.0333333333333332'],\n",
       "        ['Comedy', '9.566666666666665'],\n",
       "        ['Crime', '3.7833333333333337'],\n",
       "        ['Documentary', '1.0'],\n",
       "        ['Drama', '16.15'],\n",
       "        ['Family', '1.9833333333333332'],\n",
       "        ['Fantasy', '1.8333333333333333'],\n",
       "        ['Foreign', '0.2'],\n",
       "        ['History', '1.0'],\n",
       "        ['Horror', '2.333333333333333'],\n",
       "        ['Music', '0.8666666666666667'],\n",
       "        ['Mystery', '0.5833333333333333'],\n",
       "        ['Romance', '3.45'],\n",
       "        ['Science Fiction', '3.6166666666666667'],\n",
       "        ['TV Movie', '0'],\n",
       "        ['Thriller', '9.366666666666667'],\n",
       "        ['War', '0.25'],\n",
       "        ['Western', '0.3333333333333333']],\n",
       "\n",
       "       [['Action', '3.3166666666666664'],\n",
       "        ['Adventure', '0.9833333333333334'],\n",
       "        ['Animation', '0.2'],\n",
       "        ['Comedy', '6.566666666666666'],\n",
       "        ['Crime', '1.3666666666666667'],\n",
       "        ['Documentary', '0'],\n",
       "        ['Drama', '7.533333333333333'],\n",
       "        ['Family', '0.7'],\n",
       "        ['Fantasy', '1.2333333333333334'],\n",
       "        ['Foreign', '0'],\n",
       "        ['History', '0'],\n",
       "        ['Horror', '1.5'],\n",
       "        ['Music', '0'],\n",
       "        ['Mystery', '0.6666666666666666'],\n",
       "        ['Romance', '1.6666666666666665'],\n",
       "        ['Science Fiction', '1.2499999999999998'],\n",
       "        ['TV Movie', '0'],\n",
       "        ['Thriller', '2.3166666666666664'],\n",
       "        ['War', '0'],\n",
       "        ['Western', '0.7']]], dtype='<U19')"
      ]
     },
     "execution_count": 83,
     "metadata": {},
     "output_type": "execute_result"
    }
   ],
   "source": [
    "X"
   ]
  },
  {
   "cell_type": "code",
   "execution_count": 84,
   "metadata": {},
   "outputs": [],
   "source": [
    "points = X[:,:,1]"
   ]
  },
  {
   "cell_type": "code",
   "execution_count": 85,
   "metadata": {},
   "outputs": [],
   "source": [
    "kmeans = KMeans(n_clusters = 2)"
   ]
  },
  {
   "cell_type": "code",
   "execution_count": 86,
   "metadata": {},
   "outputs": [
    {
     "data": {
      "text/plain": [
       "KMeans(n_clusters=2)"
      ]
     },
     "execution_count": 86,
     "metadata": {},
     "output_type": "execute_result"
    }
   ],
   "source": [
    "kmeans.fit(points)"
   ]
  },
  {
   "cell_type": "code",
   "execution_count": 87,
   "metadata": {},
   "outputs": [
    {
     "data": {
      "text/plain": [
       "array([0, 1, 1, 0, 1, 0, 0, 0, 1], dtype=int32)"
      ]
     },
     "execution_count": 87,
     "metadata": {},
     "output_type": "execute_result"
    }
   ],
   "source": [
    "kmeans.labels_"
   ]
  },
  {
   "cell_type": "code",
   "execution_count": 89,
   "metadata": {},
   "outputs": [
    {
     "name": "stdout",
     "output_type": "stream",
     "text": [
      "0\n",
      "['varun' 'ttirth' 'Ammar' 'Aman' 'abhishek']\n",
      "1\n",
      "['Sai Shashank' 'dolton' 'yoogottamk' 'Ayan']\n"
     ]
    }
   ],
   "source": [
    "names = np.array(names)\n",
    "for label in np.unique(kmeans.labels_):\n",
    "    print(label)\n",
    "    print(names[label == kmeans.labels_])"
   ]
  },
  {
   "cell_type": "code",
   "execution_count": null,
   "metadata": {},
   "outputs": [],
   "source": []
  }
 ],
 "metadata": {
  "kernelspec": {
   "display_name": "SMAI",
   "language": "python",
   "name": "smai"
  },
  "language_info": {
   "codemirror_mode": {
    "name": "ipython",
    "version": 3
   },
   "file_extension": ".py",
   "mimetype": "text/x-python",
   "name": "python",
   "nbconvert_exporter": "python",
   "pygments_lexer": "ipython3",
   "version": "3.8.2"
  }
 },
 "nbformat": 4,
 "nbformat_minor": 4
}
