{
 "cells": [
  {
   "cell_type": "markdown",
   "metadata": {
    "colab_type": "text",
    "id": "7o1Qw3NDNfFP"
   },
   "source": [
    "# Introduction to Machine Learning  & Pytorch\n",
    "\n",
    "![Alt text](https://miro.medium.com/max/700/1*x7P7gqjo8k2_bj2rTQWAfg.jpeg)\n",
    "\n",
    "\n",
    "## Contents\n",
    "\n",
    "![Alt text](https://i.imgur.com/oJEQe7k.png)\n",
    "\n",
    "\n",
    "### ML-101 \n",
    "1. Linear Regression: http://adit.io/posts/2016-02-20-Linear-Regression-in-Pictures.html\n",
    "2. Least Squares \n",
    "3. Linear Classifier  http://adit.io/posts/2016-03-13-Logistic-Regression.html#non-linear-classification\n",
    "\n",
    "\n",
    "\n",
    "\n",
    "\n",
    "\n",
    "\n",
    "\n",
    "### PyTorch\n",
    "\n",
    "1. PyTorch Basics\n",
    "2. Dataset\n",
    "3. DataLoader\n",
    "4. Model\n",
    "5. Objectives, Optimizers and the Training Loop\n",
    "\n"
   ]
  },
  {
   "cell_type": "code",
   "execution_count": 3,
   "metadata": {
    "colab": {
     "base_uri": "https://localhost:8080/",
     "height": 105
    },
    "colab_type": "code",
    "id": "wChxjeLPNfFQ",
    "outputId": "13e25189-803e-41d0-e3ea-19bf2d6a6645"
   },
   "outputs": [
    {
     "name": "stdout",
     "output_type": "stream",
     "text": [
      "Defaulting to user installation because normal site-packages is not writeable\n",
      "Collecting torch\n",
      "  Using cached torch-1.5.0-cp38-cp38-manylinux1_x86_64.whl (752.0 MB)\n",
      "^C\n",
      "\u001b[31mERROR: Operation cancelled by user\u001b[0m\n"
     ]
    }
   ],
   "source": [
    "# Installation \n",
    "!pip3 install torch torchvision "
   ]
  },
  {
   "cell_type": "code",
   "execution_count": 2,
   "metadata": {
    "colab": {},
    "colab_type": "code",
    "id": "Hwr17-fPNfFV"
   },
   "outputs": [
    {
     "ename": "ModuleNotFoundError",
     "evalue": "No module named 'torch'",
     "output_type": "error",
     "traceback": [
      "\u001b[0;31m---------------------------------------------------------------------------\u001b[0m",
      "\u001b[0;31mModuleNotFoundError\u001b[0m                       Traceback (most recent call last)",
      "\u001b[0;32m<ipython-input-2-1cb897d0f581>\u001b[0m in \u001b[0;36m<module>\u001b[0;34m\u001b[0m\n\u001b[0;32m----> 1\u001b[0;31m \u001b[0;32mimport\u001b[0m \u001b[0mtorch\u001b[0m\u001b[0;34m\u001b[0m\u001b[0;34m\u001b[0m\u001b[0m\n\u001b[0m\u001b[1;32m      2\u001b[0m \u001b[0;32mfrom\u001b[0m \u001b[0mtorch\u001b[0m \u001b[0;32mimport\u001b[0m \u001b[0mnn\u001b[0m\u001b[0;34m,\u001b[0m \u001b[0moptim\u001b[0m\u001b[0;34m\u001b[0m\u001b[0;34m\u001b[0m\u001b[0m\n\u001b[1;32m      3\u001b[0m \u001b[0;32mfrom\u001b[0m \u001b[0mmatplotlib\u001b[0m \u001b[0;32mimport\u001b[0m \u001b[0mpyplot\u001b[0m\u001b[0;34m\u001b[0m\u001b[0;34m\u001b[0m\u001b[0m\n\u001b[1;32m      4\u001b[0m \u001b[0mSMALL_SIZE\u001b[0m \u001b[0;34m=\u001b[0m \u001b[0;36m18\u001b[0m\u001b[0;34m\u001b[0m\u001b[0;34m\u001b[0m\u001b[0m\n\u001b[1;32m      5\u001b[0m \u001b[0mMEDIUM_SIZE\u001b[0m \u001b[0;34m=\u001b[0m \u001b[0;36m20\u001b[0m\u001b[0;34m\u001b[0m\u001b[0;34m\u001b[0m\u001b[0m\n",
      "\u001b[0;31mModuleNotFoundError\u001b[0m: No module named 'torch'"
     ]
    }
   ],
   "source": [
    "import torch\n",
    "from torch import nn, optim\n",
    "from matplotlib import pyplot\n",
    "SMALL_SIZE = 18\n",
    "MEDIUM_SIZE = 20\n",
    "BIGGER_SIZE = 24\n",
    "\n",
    "pyplot.rc('font', size=SMALL_SIZE)          # controls default text sizes\n",
    "pyplot.rc('axes', titlesize=SMALL_SIZE)     # fontsize of the axes title\n",
    "pyplot.rc('axes', labelsize=MEDIUM_SIZE)    # fontsize of the x and y labels\n",
    "pyplot.rc('xtick', labelsize=SMALL_SIZE)    # fontsize of the tick labels\n",
    "pyplot.rc('ytick', labelsize=SMALL_SIZE)    # fontsize of the tick labels\n",
    "pyplot.rc('legend', fontsize=SMALL_SIZE)    # legend fontsize\n",
    "pyplot.rc('figure', titlesize=BIGGER_SIZE)  # fontsize of the figure title"
   ]
  },
  {
   "cell_type": "code",
   "execution_count": 0,
   "metadata": {
    "colab": {
     "base_uri": "https://localhost:8080/",
     "height": 34
    },
    "colab_type": "code",
    "id": "7WVhfBTcNfFZ",
    "outputId": "b379f69a-dad6-49de-f5ad-edf12762d08d"
   },
   "outputs": [
    {
     "data": {
      "text/plain": [
       "tensor([1., 2., 3.])"
      ]
     },
     "execution_count": 16,
     "metadata": {
      "tags": []
     },
     "output_type": "execute_result"
    }
   ],
   "source": [
    "A = torch.Tensor([1, 2, 3])\n",
    "A"
   ]
  },
  {
   "cell_type": "code",
   "execution_count": 0,
   "metadata": {
    "colab": {
     "base_uri": "https://localhost:8080/",
     "height": 34
    },
    "colab_type": "code",
    "id": "cnheloujNfFd",
    "outputId": "71c0e9ed-9674-4b9a-d32d-86c5bf673bc8"
   },
   "outputs": [
    {
     "data": {
      "text/plain": [
       "tensor([4., 5., 6.])"
      ]
     },
     "execution_count": 17,
     "metadata": {
      "tags": []
     },
     "output_type": "execute_result"
    }
   ],
   "source": [
    "B = A + 3 # Supports broadcast operations, like numpy.\n",
    "B"
   ]
  },
  {
   "cell_type": "markdown",
   "metadata": {
    "colab_type": "text",
    "id": "INd7pH8aNfFh"
   },
   "source": [
    "###  `np.ndarray`?\n",
    "###  `tf.Tensor`?\n",
    "## `torch.Tensor`!\n",
    "\n",
    "\n",
    "\n",
    "## 2.1 Why `torch.Tensor`?\n",
    "\n",
    "* `autograd` enabled. No longer necessary to compute gradient update rules manually.\n",
    "* CUDA backend - operations are many orders faster than numpy, which is not as fast.\n",
    "\n",
    "## Today's excercise\n",
    "\n",
    "Create a 2D synthetic data (Normal distribution) of 1000 samples  (i.e.,\n",
    "$(x^1,x^2)$ from two classes with 50% in each of these classes.\n",
    "\n",
    "You may chose your favorite mean and covariance. But make sure that a\n",
    "linear classifier will have error (say the best possible error is in the\n",
    "range 50-250 samples. (your data and parameter will differ from your\n",
    "friends data!!).\n",
    "\n",
    "...\n",
    "\n"
   ]
  },
  {
   "cell_type": "markdown",
   "metadata": {
    "colab_type": "text",
    "id": "ow7Idi-jNfFi"
   },
   "source": [
    "![](https://www.mathworks.com/help/stats/machinelearning_supervisedunsupervised.png)\n",
    "\n",
    "\n",
    "\n",
    "## 2.2 `torch.utils.data.Dataset`\n",
    "\n",
    "We'll implement the 2D data in question as a `Dataset`. \n",
    "\n",
    "A dataset is something which requires a finite length, and indexed access gets a `(sample, target)` pair."
   ]
  },
  {
   "cell_type": "code",
   "execution_count": 0,
   "metadata": {
    "colab": {},
    "colab_type": "code",
    "id": "Gd6G0CfkNfFj"
   },
   "outputs": [],
   "source": [
    "from torch.distributions.multivariate_normal import MultivariateNormal\n",
    "import torch.utils.data\n",
    "\n",
    "class FakeDataset(torch.utils.data.Dataset):\n",
    "    def __init__(self, mean, covariance, class_id, samples):\n",
    "        self.distribution = MultivariateNormal(mean, covariance)\n",
    "        self.class_id = class_id\n",
    "        self.samples = samples\n",
    "        self.mean = mean\n",
    "        self.covariance = covariance\n",
    "        \n",
    "        self.data = self.generate_samples()\n",
    "    \n",
    "    def generate_samples(self):\n",
    "        data = []\n",
    "        for i in range(self.samples):\n",
    "            sample = self.distribution.sample()\n",
    "            data.append(sample)\n",
    "        return data\n",
    "    \n",
    "    def __len__(self):\n",
    "        return self.samples\n",
    "    \n",
    "     \n",
    "    def __getitem__(self, idx):\n",
    "        return (self.data[idx], self.class_id)"
   ]
  },
  {
   "cell_type": "code",
   "execution_count": 0,
   "metadata": {
    "colab": {},
    "colab_type": "code",
    "id": "SI7bcVHXNfFm"
   },
   "outputs": [],
   "source": [
    "samples = 500\n",
    "\n",
    "mean, covariance = torch.tensor([1, 1]).float(), torch.eye(2, 2).float()\n",
    "first = FakeDataset(mean, covariance, class_id=0, samples=samples)\n",
    "\n",
    "mean, covariance = torch.tensor([3, 3]).float(), torch.eye(2, 2).float()\n",
    "second = FakeDataset(mean, covariance, class_id=1, samples=samples)"
   ]
  },
  {
   "cell_type": "markdown",
   "metadata": {
    "colab_type": "text",
    "id": "OxoZcwgqNfFq"
   },
   "source": [
    "\\begin{align*}\n",
    "\\mu_0 &= \\begin{bmatrix} 1 \\\\ 1\\end{bmatrix} & \\Sigma_0 &= \\begin{bmatrix}1 & 0 \\\\0 &1 \\end{bmatrix} & \\text{# class 0} \\\\\n",
    "\\mu_1 &= \\begin{bmatrix} 3 \\\\ 3\\end{bmatrix} & \\Sigma_1 &= \\begin{bmatrix}1 & 0 \\\\0 &1 \\end{bmatrix} & \\text{# class 1}\n",
    "\\end{align*}\n",
    "\n",
    "\n",
    "\n",
    "## 2.3 `torch.utils.data.DataLoader`\n",
    "\n",
    "A `DataLoader` is an abstraction which enables fast and parallel loading of data (images, videos etc) and provides options for batching, shuffling and splitting the `Dataset`. \n",
    "\n",
    "`Transforms` additionally help in preprocessing data (feature extraction) which are also built into the dataloader. "
   ]
  },
  {
   "cell_type": "code",
   "execution_count": 0,
   "metadata": {
    "colab": {
     "base_uri": "https://localhost:8080/",
     "height": 600
    },
    "colab_type": "code",
    "id": "kYBdukJ3NfFr",
    "outputId": "cf83f3b2-b173-46e1-ff78-75ac37bace03"
   },
   "outputs": [
    {
     "data": {
      "image/png": "[encoded data removed]",
      "text/plain": [
       "<Figure size 1440x720 with 1 Axes>"
      ]
     },
     "metadata": {
      "needs_background": "light",
      "tags": []
     },
     "output_type": "display_data"
    }
   ],
   "source": [
    "dataset = torch.utils.data.ConcatDataset([first, second])\n",
    "loader = torch.utils.data.DataLoader(dataset, shuffle=True)\n",
    "\n",
    "def visualize_datapoints(first, second, boundaries=[]):\n",
    "    def datapoints(dset):\n",
    "        loader = torch.utils.data.DataLoader(dset, batch_size=len(dset))\n",
    "        pts, labels = next(iter(loader))\n",
    "        xys = pts.numpy()\n",
    "        xs, ys = xys[:, 0], xys[:, 1]\n",
    "        return (xs, ys)\n",
    "        \n",
    "    xs, ys = datapoints(first)\n",
    "    pyplot.figure(figsize=(20, 10))\n",
    "    pyplot.scatter(xs, ys, label='class 0')\n",
    "    \n",
    "    xs, ys = datapoints(second)\n",
    "    pyplot.scatter(xs, ys, label='class 1')\n",
    "    \n",
    "    def draw(boundary):\n",
    "        w, title  = boundary\n",
    "        eps = 1e-9\n",
    "        f = lambda x: -(w[0] + w[1]*x)/(w[2] + eps)\n",
    "        xs = torch.linspace(start=-1, end=+5, steps=100)\n",
    "        ys = f(xs)\n",
    "        pyplot.plot(xs.numpy(), ys.numpy(), label=title)\n",
    "    for boundary in boundaries:\n",
    "        draw(boundary)\n",
    "    \n",
    "    pyplot.legend()\n",
    "    return pyplot\n",
    "\n",
    "_ = visualize_datapoints(first, second)"
   ]
  },
  {
   "cell_type": "markdown",
   "metadata": {
    "colab_type": "text",
    "id": "zcmLLOVzNfFv"
   },
   "source": [
    "## 2.4 Model \n",
    "\n",
    "Learn a Linear classifier with gradient descent. Find the\n",
    "error on this data. (write your own code that implements gradient\n",
    "descent. also submit the code). Repeat this with bias and without bias.\n",
    "Do you find any difference?\n",
    "\n",
    "Plot the decision boundaries (Bayesian optimal, LR with bias, LR without\n",
    "bias) on a 2D plane and Submit. (show samples from different classes\n",
    "with different colour.)\n",
    "..."
   ]
  },
  {
   "cell_type": "code",
   "execution_count": 0,
   "metadata": {
    "colab": {},
    "colab_type": "code",
    "id": "ANb4Jav3NfFv"
   },
   "outputs": [],
   "source": [
    "class MultinomialLogisticRegressor(nn.Module):\n",
    "    def __init__(self, input_feature_dim,  output_classes, bias=True):\n",
    "        super().__init__()\n",
    "        self.input_feature_dim = input_feature_dim\n",
    "        self.output_classes = output_classes        \n",
    "        self.W = nn.Linear(input_feature_dim, output_classes, bias=bias)\n",
    "        \n",
    "    def forward(self, input_feature):\n",
    "        o = input_feature\n",
    "        o = self.W(o)\n",
    "        return o"
   ]
  },
  {
   "cell_type": "code",
   "execution_count": 0,
   "metadata": {
    "colab": {
     "base_uri": "https://localhost:8080/",
     "height": 70
    },
    "colab_type": "code",
    "id": "TRdDqxchNfFy",
    "outputId": "3fd7f26b-70c3-47f5-fe42-284bc7f4dcf0"
   },
   "outputs": [
    {
     "name": "stdout",
     "output_type": "stream",
     "text": [
      "MultinomialLogisticRegressor(\n",
      "  (W): Linear(in_features=10, out_features=2, bias=True)\n",
      ")\n"
     ]
    }
   ],
   "source": [
    "print(MultinomialLogisticRegressor(10,2))"
   ]
  },
  {
   "cell_type": "code",
   "execution_count": 0,
   "metadata": {
    "colab": {},
    "colab_type": "code",
    "id": "ClxpW8HhNfF2"
   },
   "outputs": [],
   "source": [
    "def run_epoch(loader, model, criterion, opt, device):\n",
    "    total_loss, total_count = 0, 0\n",
    "    \n",
    "    model = model.to(device)\n",
    "    for sample, target in loader:\n",
    "        \n",
    "        sample = sample.to(device)\n",
    "        target = target.to(device)\n",
    "        \n",
    "        opt.zero_grad()   \n",
    "        \n",
    "        prediction = model(sample)\n",
    "        loss = criterion(prediction, target)\n",
    "        loss.backward()\n",
    "        \n",
    "        opt.step()\n",
    "        \n",
    "        total_loss += loss.item()\n",
    "        total_count += 1\n",
    "        \n",
    "    return total_loss/total_count"
   ]
  },
  {
   "cell_type": "markdown",
   "metadata": {
    "colab_type": "text",
    "id": "D_oo-7CGNfF5"
   },
   "source": [
    "## 2.5 Gradient Updates: Explained\n",
    "\n",
    "![](https://golden-media.s3.amazonaws.com/topic_images/48553e73ec8047d0a0739c8cd98b61f3.png)_\n",
    "\n",
    "\n",
    "Before any computation, we clear out the existing gradients through `opt.zero_grad()`.\n",
    "\n",
    "```python\n",
    "for sample, target in loader:\n",
    "    opt.zero_grad()   \n",
    "```\n",
    "\n",
    "The forward pass happens below.\n",
    "\n",
    "```python\n",
    "    prediction = model(sample)\n",
    "```\n",
    "\n",
    "\n",
    "Gradients for each parameter `x` are stored as an attribute, `x.grad`.\n",
    "\n",
    "```python\n",
    "    loss = criterion(prediction, target)\n",
    "    loss.backward()\n",
    "```\n",
    "\n",
    "Now, all the optimizer has to do is visit each parameter and `x = x - eta * x.grad`. Which is achieved through the following function.\n",
    "\n",
    "\n",
    "```python\n",
    "    opt.step()\n",
    "```\n",
    "\n",
    "## Resources\n",
    "\n",
    "Basic implementations which helps see how autograd is implemented can be found in the below notebook.\n",
    "\n",
    "[CS 231 Lecture-4](http://cs231n.stanford.edu/slides/2017/cs231n_2017_lecture4.pdf)\n"
   ]
  },
  {
   "cell_type": "code",
   "execution_count": 0,
   "metadata": {
    "colab": {},
    "colab_type": "code",
    "id": "LOjReBclNfF6"
   },
   "outputs": [],
   "source": [
    "model = MultinomialLogisticRegressor(input_feature_dim=2, output_classes=2)\n",
    "criterion = torch.nn.CrossEntropyLoss()\n",
    "opt = torch.optim.SGD(model.parameters(),  lr=1e-2, momentum=0.8)\n",
    "max_epochs = 100\n",
    "\n",
    "\n",
    "def train(max_epochs, loader, model, criterion, opt, device):\n",
    "    losses = []\n",
    "    for epoch in range(max_epochs):\n",
    "        loss = run_epoch(loader, model, criterion, opt, device)\n",
    "        losses.append(loss)\n",
    "    return losses\n",
    "\n",
    "# device = torch.device(\"cuda\")\n",
    "device = torch.device(\"cpu\")\n",
    "loader = torch.utils.data.DataLoader(dataset, shuffle=True, batch_size=25)\n",
    "losses = train(max_epochs, loader, model, criterion, opt, device)\n",
    "\n",
    "def loss_plot(losses):\n",
    "    max_epochs = len(losses)\n",
    "    times = list(range(1, max_epochs+1))\n",
    "    pyplot.figure(figsize=(30, 7))\n",
    "    pyplot.xlabel(\"epochs\")\n",
    "    pyplot.ylabel(\"cross-entropy loss\")\n",
    "    return pyplot.plot(times, losses)\n",
    "\n",
    "_ = loss_plot(losses)\n"
   ]
  },
  {
   "cell_type": "markdown",
   "metadata": {
    "colab_type": "text",
    "id": "WtNnZBiyNfF-"
   },
   "source": [
    "\n",
    "We know that the probability for the two classes are given by the below functions.\n",
    "\n",
    "\\begin{align*}\n",
    "f(0, x) &= {\\bf \\theta}_0^T{\\bf x} & g(0, {\\bf x}) &= (1 + \\exp( f(0, {\\bf x}) )^{-1} \\\\\n",
    "f(1, x) &= {\\bf \\theta}_1^T{\\bf x} & g(1, {\\bf x}) &= (1 + \\exp( f(1, {\\bf x}) )^{-1} \\\\\n",
    "\\end{align*}\n",
    "\n",
    "Decision boundary is given by $g(0, x) = g(1, x)$, which leads to $f(0, x) = f(1, x)$.\n",
    "\n",
    "i.e, \n",
    "\\begin{align*}\n",
    "f(0, x) - f(1, x) &= 0 \\implies & ({\\bf \\theta}_0 - {\\bf \\theta}_1)^T{\\bf x} &= 0 \n",
    "\\end{align*}"
   ]
  },
  {
   "cell_type": "code",
   "execution_count": 0,
   "metadata": {
    "colab": {},
    "colab_type": "code",
    "id": "ZodoXMw6NfF-"
   },
   "outputs": [],
   "source": [
    "boundaries = model.W.parameters()\n",
    "W, b = list(boundaries)\n",
    "_W = W.new(2, 3)\n",
    "_W[:,1:] = W.data\n",
    "_W[:, 0] = b.data\n",
    "w = _W[0, :] - _W[1, :]\n",
    "w = w.cpu().numpy()\n",
    "\n",
    "_ = visualize_datapoints(first, second, boundaries=[(w, 'lr with bias')])"
   ]
  },
  {
   "cell_type": "code",
   "execution_count": 0,
   "metadata": {
    "colab": {},
    "colab_type": "code",
    "id": "N6OmnxXSNfGC"
   },
   "outputs": [],
   "source": []
  }
 ],
 "metadata": {
  "colab": {
   "collapsed_sections": [],
   "name": "Intro-Pytorch.ipynb",
   "provenance": []
  },
  "kernelspec": {
   "display_name": "Python 3",
   "language": "python",
   "name": "python3"
  },
  "language_info": {
   "codemirror_mode": {
    "name": "ipython",
    "version": 3
   },
   "file_extension": ".py",
   "mimetype": "text/x-python",
   "name": "python",
   "nbconvert_exporter": "python",
   "pygments_lexer": "ipython3",
   "version": "3.8.2"
  }
 },
 "nbformat": 4,
 "nbformat_minor": 1
}
