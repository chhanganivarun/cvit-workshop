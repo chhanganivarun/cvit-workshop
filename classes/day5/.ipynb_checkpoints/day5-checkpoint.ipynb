{
 "cells": [
  {
   "cell_type": "code",
   "execution_count": 52,
   "metadata": {},
   "outputs": [],
   "source": [
    "import numpy as np\n",
    "import math"
   ]
  },
  {
   "cell_type": "code",
   "execution_count": 1,
   "metadata": {},
   "outputs": [
    {
     "data": {
      "text/plain": [
       "0.007944389275074478"
      ]
     },
     "execution_count": 1,
     "metadata": {},
     "output_type": "execute_result"
    }
   ],
   "source": [
    "0.8*0.001/(0.8*0.001+ 0.1*0.999)"
   ]
  },
  {
   "cell_type": "markdown",
   "metadata": {},
   "source": [
    "#### Cancer Test Example\n",
    "Let us apply Bayes' Rule to a Cancer Test Example which is a very common example in Statistic classes.\n",
    "Suppose, there is a certain type of cancer which is extremely rare.\n",
    "\n",
    "Let,\n",
    "\\begin{equation}\n",
    "P(C) = 0.001\n",
    "\\end{equation}\n",
    "In other words, $1$ in every $1000$ people has this cancer. Can you compute the probability of not having cancer?\n",
    "\\begin{equation}\n",
    "P(\\neg C) = ?\n",
    "\\end{equation}\n",
    "\n",
    "The test for cancer is not $100\\%$ accurate. Let us say, probability of the test being positive given someone has cancer is,\n",
    "\\begin{equation}\n",
    "P(pos | C) = 0.8\n",
    "\\end{equation}\n",
    "Can you compute the probability that the test is negative given someone has cancer?\n",
    "\\begin{equation}\n",
    "P(neg | C) = ?\n",
    "\\end{equation}\n",
    "Similarly, the probability of a test being positive given that someone has no cancer is $P(pos | \\neg C) = 0.1$. Can you compute the probability that the test is negative given someone has no cancer?\n",
    "\\begin{equation}\n",
    "P(neg | \\neg C) = ?\n",
    "\\end{equation}\n",
    "\n",
    "Can you compute the following?\n",
    "\\begin{equation}\n",
    "P(C | pos) = ?\n",
    "\\end{equation}\n",
    "Interpret the quantity you computed in words!\n",
    "\n",
    "What we computed is very interesting. We computed probability of having cancer given the test results and how likely the disease is."
   ]
  },
  {
   "cell_type": "markdown",
   "metadata": {},
   "source": [
    "# Robot Programming Exercise\n",
    "\n",
    "In this exercise we will apply basic concepts of probability and statistics to help a robot localise itself. Robot localization is an important task for any mobile robot as it needs to know where in the world it is currently situated in.\n",
    "\n",
    "You may think robot localization is a very easy problem as you can use GPS. But no! GPS has errors in localization upto a few metres which is very inaccurate for self driving cars.\n",
    "\n",
    "Hence, the robot needs to use sensors to locate itself. And sensors are noisy! Even the motion of a robot is uncertain.\n",
    "\n"
   ]
  },
  {
   "cell_type": "code",
   "execution_count": 8,
   "metadata": {},
   "outputs": [],
   "source": [
    "# Modify the empty list, p, so that it becomes a UNIFORM probability\n",
    "# distribution over n grid cells, as expressed in a list of \n",
    "# n probabilities.\n",
    "def init_distribution(n):\n",
    "    p = []\n",
    "    # Add your code here\n",
    "    p = np.ones(n)*1/n\n",
    "    # End your code here\n",
    "    return p"
   ]
  },
  {
   "cell_type": "code",
   "execution_count": 9,
   "metadata": {},
   "outputs": [
    {
     "data": {
      "text/plain": [
       "array([0.2, 0.2, 0.2, 0.2, 0.2])"
      ]
     },
     "execution_count": 9,
     "metadata": {},
     "output_type": "execute_result"
    }
   ],
   "source": [
    "init_distribution(5)"
   ]
  },
  {
   "cell_type": "markdown",
   "metadata": {},
   "source": [
    "\n",
    "P(red| red) = 0.75\n",
    "\n",
    "P(green| red) = 0.25\n",
    "\n",
    "\n",
    "P(red| green) = 0.25\n",
    "\n",
    "p(green| green) = 0.75"
   ]
  },
  {
   "cell_type": "code",
   "execution_count": 16,
   "metadata": {},
   "outputs": [],
   "source": [
    "P = np.array([[0.75,0.25],[0.25,0.75]])\n",
    "colors = {'red':0,'green':1,0:'red',1:'green'}\n",
    "\n",
    "world = ['green','red','red','green','green']\n",
    "\n",
    "def Prob(col1,col2):\n",
    "    return P[colors[col1],colors[col2]]"
   ]
  },
  {
   "cell_type": "code",
   "execution_count": 13,
   "metadata": {},
   "outputs": [
    {
     "data": {
      "text/plain": [
       "array([0.11111111, 0.33333333, 0.33333333, 0.11111111, 0.11111111])"
      ]
     },
     "execution_count": 13,
     "metadata": {},
     "output_type": "execute_result"
    }
   ],
   "source": [
    "#Modify the code below so that the function sense, which \n",
    "#takes p and Z as inputs, will output the normalized \n",
    "#probability distribution, q, after multiplying the entries \n",
    "# in p according to the color in the corresponding cell in world,\n",
    "# followed by normalization of the probability values\n",
    "world=['green', 'red', 'red', 'green', 'green']\n",
    "p = init_distribution(len(world))\n",
    "\n",
    "def sense(p, Z):\n",
    "    q = np.copy(p)\n",
    "    for i in range(len(world)):\n",
    "        q[i] = p[i]*P[colors[world[i]],colors[Z]]\n",
    "    # End your code here\n",
    "    return q/np.sum(q)\n",
    "            \n",
    "sense(p, 'red')"
   ]
  },
  {
   "cell_type": "code",
   "execution_count": 19,
   "metadata": {},
   "outputs": [
    {
     "data": {
      "text/plain": [
       "array([0.27272727, 0.09090909, 0.09090909, 0.27272727, 0.27272727])"
      ]
     },
     "execution_count": 19,
     "metadata": {},
     "output_type": "execute_result"
    }
   ],
   "source": [
    "sense(p,'green')"
   ]
  },
  {
   "cell_type": "code",
   "execution_count": 24,
   "metadata": {},
   "outputs": [
    {
     "data": {
      "text/plain": [
       "array([0.2, 0.2, 0.2, 0.2, 0.2])"
      ]
     },
     "execution_count": 24,
     "metadata": {},
     "output_type": "execute_result"
    }
   ],
   "source": [
    "world=['green', 'red', 'red', 'green', 'green']\n",
    "p = init_distribution(len(world))\n",
    "measurements = ['red','green']\n",
    "for i in measurements:\n",
    "    p = sense(p,i)\n",
    "p"
   ]
  },
  {
   "cell_type": "code",
   "execution_count": 39,
   "metadata": {},
   "outputs": [],
   "source": [
    "motion = {'left':0,'right':1,1:'right',0:'left'}\n",
    "def move(p,U):\n",
    "    p = np.array(p)\n",
    "    U = U%p.shape[0]\n",
    "    q = np.copy(p)\n",
    "    if U == 0:\n",
    "        return q\n",
    "    else:\n",
    "        q[U:] = p[0:-U]\n",
    "        q[:U] = p[-U:]\n",
    "    return q"
   ]
  },
  {
   "cell_type": "code",
   "execution_count": 40,
   "metadata": {},
   "outputs": [
    {
     "data": {
      "text/plain": [
       "array([0.11, 0.11, 0.33, 0.33, 0.11])"
      ]
     },
     "execution_count": 40,
     "metadata": {},
     "output_type": "execute_result"
    }
   ],
   "source": [
    "move([0.11, 0.33, 0.33, 0.11, 0.11], 1)"
   ]
  },
  {
   "cell_type": "code",
   "execution_count": 42,
   "metadata": {},
   "outputs": [
    {
     "data": {
      "text/plain": [
       "array([0. , 0. , 0.1, 0.8, 0.1])"
      ]
     },
     "execution_count": 42,
     "metadata": {},
     "output_type": "execute_result"
    }
   ],
   "source": [
    "def move_inexact(p,U):\n",
    "    return move(p,U-1)*0.1 + move(p,U)*0.8 + move(p,U+1) * 0.1\n",
    "move_inexact([0, 1.0, 0, 0, 0], 2)"
   ]
  },
  {
   "cell_type": "code",
   "execution_count": 47,
   "metadata": {},
   "outputs": [],
   "source": [
    "def signum(x):\n",
    "    return int(abs(x)/x) if x!=0 else 0\n",
    "def move_stepwise(p,U,step = 1):\n",
    "    p = np.array(p)\n",
    "    for i in range(abs(U)):\n",
    "        p = move_inexact(p,1*signum(U))\n",
    "    return p"
   ]
  },
  {
   "cell_type": "code",
   "execution_count": 50,
   "metadata": {},
   "outputs": [
    {
     "data": {
      "text/plain": [
       "array([0.01, 0.01, 0.16, 0.66, 0.16])"
      ]
     },
     "execution_count": 50,
     "metadata": {},
     "output_type": "execute_result"
    }
   ],
   "source": [
    "move_stepwise([0, 1.0, 0, 0, 0], 2)"
   ]
  },
  {
   "cell_type": "code",
   "execution_count": 51,
   "metadata": {},
   "outputs": [
    {
     "data": {
      "text/plain": [
       "array([0.2, 0.2, 0.2, 0.2, 0.2])"
      ]
     },
     "execution_count": 51,
     "metadata": {},
     "output_type": "execute_result"
    }
   ],
   "source": [
    "move_stepwise([0,1,0,0,0],1000)"
   ]
  },
  {
   "cell_type": "code",
   "execution_count": 59,
   "metadata": {},
   "outputs": [],
   "source": [
    "def get_entropy(p):\n",
    "    p = np.array(p)\n",
    "    return np.sum(-p[np.where(p!=0)]*np.log2(p[np.where(p!=0)]))"
   ]
  },
  {
   "cell_type": "code",
   "execution_count": 60,
   "metadata": {},
   "outputs": [
    {
     "data": {
      "text/plain": [
       "0.0"
      ]
     },
     "execution_count": 60,
     "metadata": {},
     "output_type": "execute_result"
    }
   ],
   "source": [
    "get_entropy([0,1,0,0,0])"
   ]
  },
  {
   "cell_type": "code",
   "execution_count": 61,
   "metadata": {},
   "outputs": [
    {
     "data": {
      "text/plain": [
       "2.321928094887362"
      ]
     },
     "execution_count": 61,
     "metadata": {},
     "output_type": "execute_result"
    }
   ],
   "source": [
    "get_entropy(init_distribution(5))"
   ]
  },
  {
   "cell_type": "code",
   "execution_count": 62,
   "metadata": {},
   "outputs": [
    {
     "data": {
      "text/plain": [
       "2.321928094887362"
      ]
     },
     "execution_count": 62,
     "metadata": {},
     "output_type": "execute_result"
    }
   ],
   "source": [
    "-5*0.2*math.log2(0.2)"
   ]
  },
  {
   "cell_type": "code",
   "execution_count": 63,
   "metadata": {},
   "outputs": [
    {
     "data": {
      "text/plain": [
       "array([0.21157895, 0.15157895, 0.08105263, 0.16842105, 0.38736842])"
      ]
     },
     "execution_count": 63,
     "metadata": {},
     "output_type": "execute_result"
    }
   ],
   "source": [
    "p = init_distribution(len(world))\n",
    "measurements = ['red','green']\n",
    "motions = [1,1]\n",
    "for i in range(2):\n",
    "    p = sense(p,measurements[i])\n",
    "    p = move_stepwise(p,motions[i])\n",
    "p"
   ]
  },
  {
   "cell_type": "markdown",
   "metadata": {},
   "source": [
    "# Todo for 2D matrix"
   ]
  },
  {
   "cell_type": "code",
   "execution_count": null,
   "metadata": {},
   "outputs": [],
   "source": []
  }
 ],
 "metadata": {
  "kernelspec": {
   "display_name": "SMAI",
   "language": "python",
   "name": "smai"
  },
  "language_info": {
   "codemirror_mode": {
    "name": "ipython",
    "version": 3
   },
   "file_extension": ".py",
   "mimetype": "text/x-python",
   "name": "python",
   "nbconvert_exporter": "python",
   "pygments_lexer": "ipython3",
   "version": "3.8.2"
  }
 },
 "nbformat": 4,
 "nbformat_minor": 4
}
