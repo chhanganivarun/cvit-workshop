{
 "cells": [
  {
   "cell_type": "code",
   "execution_count": 1,
   "metadata": {},
   "outputs": [],
   "source": [
    "%matplotlib inline\n",
    "import numpy as np\n",
    "import math\n",
    "import matplotlib.pyplot as plt"
   ]
  },
  {
   "cell_type": "code",
   "execution_count": 2,
   "metadata": {},
   "outputs": [
    {
     "data": {
      "text/plain": [
       "0.007944389275074478"
      ]
     },
     "execution_count": 2,
     "metadata": {},
     "output_type": "execute_result"
    }
   ],
   "source": [
    "0.8*0.001/(0.8*0.001+ 0.1*0.999)"
   ]
  },
  {
   "cell_type": "markdown",
   "metadata": {},
   "source": [
    "#### Cancer Test Example\n",
    "Let us apply Bayes' Rule to a Cancer Test Example which is a very common example in Statistic classes.\n",
    "Suppose, there is a certain type of cancer which is extremely rare.\n",
    "\n",
    "Let,\n",
    "\\begin{equation}\n",
    "P(C) = 0.001\n",
    "\\end{equation}\n",
    "In other words, $1$ in every $1000$ people has this cancer. Can you compute the probability of not having cancer?\n",
    "\\begin{equation}\n",
    "P(\\neg C) = ?\n",
    "\\end{equation}\n",
    "\n",
    "The test for cancer is not $100\\%$ accurate. Let us say, probability of the test being positive given someone has cancer is,\n",
    "\\begin{equation}\n",
    "P(pos | C) = 0.8\n",
    "\\end{equation}\n",
    "Can you compute the probability that the test is negative given someone has cancer?\n",
    "\\begin{equation}\n",
    "P(neg | C) = ?\n",
    "\\end{equation}\n",
    "Similarly, the probability of a test being positive given that someone has no cancer is $P(pos | \\neg C) = 0.1$. Can you compute the probability that the test is negative given someone has no cancer?\n",
    "\\begin{equation}\n",
    "P(neg | \\neg C) = ?\n",
    "\\end{equation}\n",
    "\n",
    "Can you compute the following?\n",
    "\\begin{equation}\n",
    "P(C | pos) = ?\n",
    "\\end{equation}\n",
    "Interpret the quantity you computed in words!\n",
    "\n",
    "What we computed is very interesting. We computed probability of having cancer given the test results and how likely the disease is."
   ]
  },
  {
   "cell_type": "markdown",
   "metadata": {},
   "source": [
    "# Robot Programming Exercise\n",
    "\n",
    "In this exercise we will apply basic concepts of probability and statistics to help a robot localise itself. Robot localization is an important task for any mobile robot as it needs to know where in the world it is currently situated in.\n",
    "\n",
    "You may think robot localization is a very easy problem as you can use GPS. But no! GPS has errors in localization upto a few metres which is very inaccurate for self driving cars.\n",
    "\n",
    "Hence, the robot needs to use sensors to locate itself. And sensors are noisy! Even the motion of a robot is uncertain.\n",
    "\n"
   ]
  },
  {
   "cell_type": "markdown",
   "metadata": {},
   "source": [
    "\n",
    "P(red| red) = 0.75\n",
    "\n",
    "P(green| red) = 0.25\n",
    "\n",
    "\n",
    "P(red| green) = 0.25\n",
    "\n",
    "p(green| green) = 0.75"
   ]
  },
  {
   "cell_type": "code",
   "execution_count": 3,
   "metadata": {},
   "outputs": [],
   "source": [
    "P = np.array([[0.75,0.25],[0.25,0.75]])\n",
    "colors = {'red':0,'green':1,0:'red',1:'green'}"
   ]
  },
  {
   "cell_type": "code",
   "execution_count": 4,
   "metadata": {},
   "outputs": [],
   "source": [
    "# Modify the empty list, p, so that it becomes a UNIFORM probability\n",
    "# distribution over n grid cells, as expressed in a list of \n",
    "# n probabilities.\n",
    "def init_distribution(n,m=1):\n",
    "    p = []\n",
    "    # Add your code here\n",
    "    if m <= 1:\n",
    "        n,m = m,n\n",
    "    p = np.ones((n,m))*1/(n*m)\n",
    "    # End your code here\n",
    "    return p"
   ]
  },
  {
   "cell_type": "code",
   "execution_count": 5,
   "metadata": {},
   "outputs": [
    {
     "data": {
      "text/plain": [
       "array([[0.2, 0.2, 0.2, 0.2, 0.2]])"
      ]
     },
     "execution_count": 5,
     "metadata": {},
     "output_type": "execute_result"
    }
   ],
   "source": [
    "init_distribution(5)"
   ]
  },
  {
   "cell_type": "code",
   "execution_count": 6,
   "metadata": {},
   "outputs": [],
   "source": [
    "colors_img = {'red':(255,0,0),'green':(0,255,0)}\n",
    "def get_color_vector(x):\n",
    "    return colors_img[x]\n",
    "def world_img(world):\n",
    "    world = np.array(world)\n",
    "    if len(world.shape) == 1:\n",
    "        world = world.reshape((1,-1))\n",
    "    img = np.array(np.vectorize(get_color_vector)(world.repeat(100, axis=0).repeat(100, axis=1)))\n",
    "    img = img.transpose((1,2,0))\n",
    "    img[:,100::100,:] = 0\n",
    "    img[100::100,:,:] = 0\n",
    "    return img"
   ]
  },
  {
   "cell_type": "code",
   "execution_count": 7,
   "metadata": {},
   "outputs": [],
   "source": [
    "\n",
    "\n",
    "world = ['green','red','red','green','green']\n",
    "\n",
    "def Prob(col1,col2):\n",
    "    return P[colors[col1],colors[col2]]"
   ]
  },
  {
   "cell_type": "code",
   "execution_count": 8,
   "metadata": {},
   "outputs": [
    {
     "data": {
      "text/plain": [
       "array([[0.11111111, 0.33333333, 0.33333333, 0.11111111, 0.11111111]])"
      ]
     },
     "execution_count": 8,
     "metadata": {},
     "output_type": "execute_result"
    },
    {
     "data": {
      "image/png": "[encoded data removed]",
      "text/plain": [
       "<Figure size 432x288 with 1 Axes>"
      ]
     },
     "metadata": {
      "needs_background": "light"
     },
     "output_type": "display_data"
    }
   ],
   "source": [
    "#Modify the code below so that the function sense, which \n",
    "#takes p and Z as inputs, will output the normalized \n",
    "#probability distribution, q, after multiplying the entries \n",
    "# in p according to the color in the corresponding cell in world,\n",
    "# followed by normalization of the probability values\n",
    "world=['green', 'red', 'red', 'green', 'green']\n",
    "p = init_distribution(len(world))\n",
    "\n",
    "def sense(p, Z):\n",
    "    q = (p *np.vectorize(Prob)( world,Z))\n",
    "    return q/np.sum(q)\n",
    "\n",
    "plt.imshow(world_img(world))\n",
    "sense(p, 'red')"
   ]
  },
  {
   "cell_type": "code",
   "execution_count": 9,
   "metadata": {},
   "outputs": [
    {
     "data": {
      "text/plain": [
       "array([[0.27272727, 0.09090909, 0.09090909, 0.27272727, 0.27272727]])"
      ]
     },
     "execution_count": 9,
     "metadata": {},
     "output_type": "execute_result"
    }
   ],
   "source": [
    "sense(p,'green')"
   ]
  },
  {
   "cell_type": "code",
   "execution_count": 10,
   "metadata": {},
   "outputs": [
    {
     "data": {
      "text/plain": [
       "array([[0.2, 0.2, 0.2, 0.2, 0.2]])"
      ]
     },
     "execution_count": 10,
     "metadata": {},
     "output_type": "execute_result"
    }
   ],
   "source": [
    "world=['green', 'red', 'red', 'green', 'green']\n",
    "p = init_distribution(len(world))\n",
    "measurements = ['red','green']\n",
    "for i in measurements:\n",
    "    p = sense(p,i)\n",
    "p"
   ]
  },
  {
   "cell_type": "code",
   "execution_count": 11,
   "metadata": {},
   "outputs": [],
   "source": [
    "def move(p,U):\n",
    "    p = np.array(p)\n",
    "    if len(p.shape) == 1:\n",
    "        p = p.reshape((1,-1))\n",
    "    U = U%p.shape[1]\n",
    "    q = np.copy(p)\n",
    "    if U == 0:\n",
    "        return q\n",
    "    else:\n",
    "        q[:,U:] = p[:,0:-U]\n",
    "        q[:,:U] = p[:,-U:]\n",
    "    return q"
   ]
  },
  {
   "cell_type": "code",
   "execution_count": 12,
   "metadata": {},
   "outputs": [
    {
     "data": {
      "text/plain": [
       "array([[0.11, 0.11, 0.33, 0.33, 0.11]])"
      ]
     },
     "execution_count": 12,
     "metadata": {},
     "output_type": "execute_result"
    }
   ],
   "source": [
    "move([0.11, 0.33, 0.33, 0.11, 0.11], 1)"
   ]
  },
  {
   "cell_type": "code",
   "execution_count": 13,
   "metadata": {},
   "outputs": [
    {
     "data": {
      "text/plain": [
       "array([[0. , 0. , 0.1, 0.8, 0.1]])"
      ]
     },
     "execution_count": 13,
     "metadata": {},
     "output_type": "execute_result"
    }
   ],
   "source": [
    "def move_inexact(p,U):\n",
    "    return move(p,U-1)*0.1 + move(p,U)*0.8 + move(p,U+1) * 0.1\n",
    "move_inexact([0, 1.0, 0, 0, 0], 2)"
   ]
  },
  {
   "cell_type": "code",
   "execution_count": 14,
   "metadata": {},
   "outputs": [],
   "source": [
    "def signum(x):\n",
    "    return int(abs(x)/x) if x!=0 else 0"
   ]
  },
  {
   "cell_type": "code",
   "execution_count": 15,
   "metadata": {},
   "outputs": [],
   "source": [
    "def move_stepwise(p,U,step = 1):\n",
    "    p = np.array(p)\n",
    "    for i in range(0,abs(U),step):\n",
    "        p = move_inexact(p,step*signum(U))\n",
    "    return p"
   ]
  },
  {
   "cell_type": "code",
   "execution_count": 16,
   "metadata": {},
   "outputs": [
    {
     "data": {
      "text/plain": [
       "array([[0.01, 0.01, 0.16, 0.66, 0.16]])"
      ]
     },
     "execution_count": 16,
     "metadata": {},
     "output_type": "execute_result"
    }
   ],
   "source": [
    "move_stepwise([0, 1.0, 0, 0, 0], 2)"
   ]
  },
  {
   "cell_type": "code",
   "execution_count": 17,
   "metadata": {},
   "outputs": [
    {
     "data": {
      "text/plain": [
       "array([[0.2, 0.2, 0.2, 0.2, 0.2]])"
      ]
     },
     "execution_count": 17,
     "metadata": {},
     "output_type": "execute_result"
    }
   ],
   "source": [
    "move_stepwise([0,1,0,0,0],1000)"
   ]
  },
  {
   "cell_type": "code",
   "execution_count": 18,
   "metadata": {},
   "outputs": [],
   "source": [
    "def get_entropy(p):\n",
    "    p = np.array(p)\n",
    "    return np.sum(-p[np.where(p!=0)]*np.log2(p[np.where(p!=0)]))"
   ]
  },
  {
   "cell_type": "code",
   "execution_count": 19,
   "metadata": {},
   "outputs": [
    {
     "data": {
      "text/plain": [
       "0.0"
      ]
     },
     "execution_count": 19,
     "metadata": {},
     "output_type": "execute_result"
    }
   ],
   "source": [
    "get_entropy([0,1,0,0,0])"
   ]
  },
  {
   "cell_type": "code",
   "execution_count": 20,
   "metadata": {},
   "outputs": [
    {
     "data": {
      "text/plain": [
       "2.321928094887362"
      ]
     },
     "execution_count": 20,
     "metadata": {},
     "output_type": "execute_result"
    }
   ],
   "source": [
    "get_entropy(init_distribution(5))"
   ]
  },
  {
   "cell_type": "code",
   "execution_count": 21,
   "metadata": {},
   "outputs": [
    {
     "data": {
      "text/plain": [
       "2.321928094887362"
      ]
     },
     "execution_count": 21,
     "metadata": {},
     "output_type": "execute_result"
    }
   ],
   "source": [
    "-5*0.2*math.log2(0.2)"
   ]
  },
  {
   "cell_type": "code",
   "execution_count": 22,
   "metadata": {},
   "outputs": [
    {
     "data": {
      "text/plain": [
       "array([[0.21157895, 0.15157895, 0.08105263, 0.16842105, 0.38736842]])"
      ]
     },
     "execution_count": 22,
     "metadata": {},
     "output_type": "execute_result"
    }
   ],
   "source": [
    "p = init_distribution(len(world))\n",
    "measurements = ['red','green']\n",
    "motions = [1,1]\n",
    "for i in range(2):\n",
    "    p = sense(p,measurements[i])\n",
    "    p = move_stepwise(p,motions[i])\n",
    "p"
   ]
  },
  {
   "cell_type": "markdown",
   "metadata": {},
   "source": [
    "# Todo for 2D matrix"
   ]
  },
  {
   "cell_type": "code",
   "execution_count": 23,
   "metadata": {},
   "outputs": [
    {
     "data": {
      "text/plain": [
       "<matplotlib.image.AxesImage at 0x7fab6c7530a0>"
      ]
     },
     "execution_count": 23,
     "metadata": {},
     "output_type": "execute_result"
    },
    {
     "data": {
      "image/png": "[encoded data removed]",
      "text/plain": [
       "<Figure size 432x288 with 1 Axes>"
      ]
     },
     "metadata": {
      "needs_background": "light"
     },
     "output_type": "display_data"
    }
   ],
   "source": [
    "world=[['green', 'red', 'red', 'green', 'green'],['red','green','red','green','red']]\n",
    "plt.imshow(world_img(world))"
   ]
  },
  {
   "cell_type": "code",
   "execution_count": 24,
   "metadata": {},
   "outputs": [],
   "source": [
    "p = init_distribution(2,5)"
   ]
  },
  {
   "cell_type": "code",
   "execution_count": 25,
   "metadata": {},
   "outputs": [],
   "source": [
    "def move_right(p,U):\n",
    "    p = np.array(p)\n",
    "    if len(p.shape) == 1:\n",
    "        p = p.reshape((1,-1))\n",
    "    U = U%p.shape[1]\n",
    "    q = np.copy(p)\n",
    "    if U == 0:\n",
    "        return q\n",
    "    else:\n",
    "        q[:,U:] = p[:,0:-U]\n",
    "        q[:,:U] = p[:,-U:]\n",
    "    return q"
   ]
  },
  {
   "cell_type": "code",
   "execution_count": 26,
   "metadata": {},
   "outputs": [
    {
     "data": {
      "text/plain": [
       "array([[0. , 0. , 0.1, 0.8, 0.1],\n",
       "       [0. , 0. , 0. , 0. , 0. ]])"
      ]
     },
     "execution_count": 26,
     "metadata": {},
     "output_type": "execute_result"
    }
   ],
   "source": [
    "def move_right_inexact(p,U):\n",
    "    return move_right(p,U-1)*0.1 + move_right(p,U)*0.8 + move_right(p,U+1) * 0.1\n",
    "move_right_inexact([[0, 1.0, 0, 0, 0],[0,0,0,0,0]], 2)"
   ]
  },
  {
   "cell_type": "code",
   "execution_count": 27,
   "metadata": {},
   "outputs": [],
   "source": [
    "def move_right_stepwise(p,U,step = 1):\n",
    "    p = np.array(p)\n",
    "    for i in range(0,abs(U),step):\n",
    "        p = move_right_inexact(p,step*signum(U))\n",
    "    return p"
   ]
  },
  {
   "cell_type": "code",
   "execution_count": 28,
   "metadata": {},
   "outputs": [
    {
     "data": {
      "text/plain": [
       "array([[0.01, 0.01, 0.16, 0.66, 0.16],\n",
       "       [0.  , 0.  , 0.  , 0.  , 0.  ]])"
      ]
     },
     "execution_count": 28,
     "metadata": {},
     "output_type": "execute_result"
    }
   ],
   "source": [
    "move_right_stepwise([[0, 1.0, 0, 0, 0],[0,0,0,0,0]], 2)"
   ]
  },
  {
   "cell_type": "code",
   "execution_count": 38,
   "metadata": {},
   "outputs": [
    {
     "data": {
      "text/plain": [
       "array([[0. , 0. , 0.1, 0.8, 0.1],\n",
       "       [0. , 0. , 0. , 0. , 0. ]])"
      ]
     },
     "execution_count": 38,
     "metadata": {},
     "output_type": "execute_result"
    }
   ],
   "source": [
    "move_right_stepwise([[0, 1.0, 0, 0, 0],[0,0,0,0,0]], 2,step = 2)"
   ]
  },
  {
   "cell_type": "code",
   "execution_count": 29,
   "metadata": {},
   "outputs": [
    {
     "data": {
      "text/plain": [
       "array([[0.2, 0.2, 0.2, 0.2, 0.2],\n",
       "       [0. , 0. , 0. , 0. , 0. ]])"
      ]
     },
     "execution_count": 29,
     "metadata": {},
     "output_type": "execute_result"
    }
   ],
   "source": [
    "move_right_stepwise([[0, 1.0, 0, 0, 0],[0,0,0,0,0]],1000)"
   ]
  },
  {
   "cell_type": "code",
   "execution_count": 30,
   "metadata": {},
   "outputs": [],
   "source": [
    "def move_down(p,U):\n",
    "    p = np.array(p)\n",
    "    if len(p.shape) == 1:\n",
    "        p = p.reshape((1,-1))\n",
    "    U = U%p.shape[1]\n",
    "    q = np.copy(p)\n",
    "    if U == 0:\n",
    "        return q\n",
    "    else:\n",
    "        q[U:,:] = p[0:-U,:]\n",
    "        q[:U,:] = p[-U:,:]\n",
    "    return q"
   ]
  },
  {
   "cell_type": "code",
   "execution_count": 31,
   "metadata": {},
   "outputs": [
    {
     "data": {
      "text/plain": [
       "array([[0., 0., 0., 0., 0.],\n",
       "       [0., 1., 0., 0., 0.]])"
      ]
     },
     "execution_count": 31,
     "metadata": {},
     "output_type": "execute_result"
    }
   ],
   "source": [
    "move_down([[0, 1.0, 0, 0, 0],[0,0,0,0,0]],1)"
   ]
  },
  {
   "cell_type": "code",
   "execution_count": 32,
   "metadata": {},
   "outputs": [
    {
     "data": {
      "text/plain": [
       "array([[0. , 0.9, 0. , 0. , 0. ],\n",
       "       [0. , 0.1, 0. , 0. , 0. ]])"
      ]
     },
     "execution_count": 32,
     "metadata": {},
     "output_type": "execute_result"
    }
   ],
   "source": [
    "def move_down_inexact(p,U):\n",
    "    return move_down(p,U-1)*0.1 + move_down(p,U)*0.8 + move_down(p,U+1) * 0.1\n",
    "move_down_inexact([[0, 1.0, 0, 0, 0],[0,0,0,0,0]], 2)"
   ]
  },
  {
   "cell_type": "code",
   "execution_count": 33,
   "metadata": {},
   "outputs": [],
   "source": [
    "def move_down_stepwise(p,U,step = 1):\n",
    "    p = np.array(p)\n",
    "    for i in range(0,abs(U),step):\n",
    "        p = move_down_inexact(p,step*signum(U))\n",
    "    return p"
   ]
  },
  {
   "cell_type": "code",
   "execution_count": 34,
   "metadata": {},
   "outputs": [
    {
     "data": {
      "text/plain": [
       "array([[0.  , 0.68, 0.  , 0.  , 0.  ],\n",
       "       [0.  , 0.32, 0.  , 0.  , 0.  ]])"
      ]
     },
     "execution_count": 34,
     "metadata": {},
     "output_type": "execute_result"
    }
   ],
   "source": [
    "move_down_stepwise([[0, 1.0, 0, 0, 0],[0,0,0,0,0]], 2)"
   ]
  },
  {
   "cell_type": "code",
   "execution_count": 35,
   "metadata": {},
   "outputs": [
    {
     "data": {
      "text/plain": [
       "array([[0. , 0.5, 0. , 0. , 0. ],\n",
       "       [0. , 0.5, 0. , 0. , 0. ]])"
      ]
     },
     "execution_count": 35,
     "metadata": {},
     "output_type": "execute_result"
    }
   ],
   "source": [
    "move_down_stepwise([[0, 1.0, 0, 0, 0],[0,0,0,0,0]],1000)"
   ]
  }
 ],
 "metadata": {
  "kernelspec": {
   "display_name": "SMAI",
   "language": "python",
   "name": "smai"
  },
  "language_info": {
   "codemirror_mode": {
    "name": "ipython",
    "version": 3
   },
   "file_extension": ".py",
   "mimetype": "text/x-python",
   "name": "python",
   "nbconvert_exporter": "python",
   "pygments_lexer": "ipython3",
   "version": "3.8.2"
  }
 },
 "nbformat": 4,
 "nbformat_minor": 4
}
