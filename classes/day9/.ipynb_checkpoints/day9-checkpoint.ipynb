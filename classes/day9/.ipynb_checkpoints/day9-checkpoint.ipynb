{
 "cells": [
  {
   "cell_type": "code",
   "execution_count": 5,
   "metadata": {},
   "outputs": [],
   "source": [
    "import torch\n",
    "import numpy\n",
    "from torch import nn\n",
    "import torchvision\n",
    "from torchvision import transforms, datasets\n",
    "from torch import optim"
   ]
  },
  {
   "cell_type": "code",
   "execution_count": 6,
   "metadata": {},
   "outputs": [],
   "source": [
    "import torch.nn.functional as F"
   ]
  },
  {
   "cell_type": "code",
   "execution_count": 9,
   "metadata": {},
   "outputs": [],
   "source": [
    "transform = transforms.Compose([transforms.ToTensor(),\n",
    "                              transforms.Normalize((0.5,),(0.5,)),\n",
    "                              ])"
   ]
  },
  {
   "cell_type": "code",
   "execution_count": 13,
   "metadata": {},
   "outputs": [],
   "source": [
    "trainset= datasets.MNIST('~/.pytorch/MNIST_data//',download=True,train=True,transform=transform)\n",
    "trainloader = torch.utils.data.DataLoader(trainset,batch_size=64,shuffle=True)\n",
    "\n",
    "\n",
    "# for images,label in trainloader:\n",
    "#     print(images.shape)\n",
    "#     break\n",
    "    \n",
    "# Output:\n",
    "# torch.Size([64, 1, 28, 28])"
   ]
  },
  {
   "cell_type": "code",
   "execution_count": 11,
   "metadata": {},
   "outputs": [],
   "source": [
    "testset= datasets.MNIST('~/.pytorch/MNIST_data//',download=True,train=True,transform=transform)\n",
    "testloader = torch.utils.data.DataLoader(trainset,batch_size=64,shuffle=True)"
   ]
  },
  {
   "cell_type": "code",
   "execution_count": 14,
   "metadata": {},
   "outputs": [],
   "source": [
    "class MLP(torch.nn.Module):\n",
    "    def __init__(self):\n",
    "        super().__init__()\n",
    "        self.fc1 = torch.nn.Linear(784,128)\n",
    "        self.fc2 = torch.nn.Linear(128,64)\n",
    "        self.fc3 = torch.nn.Linear(64,10)\n",
    "        self.sigmoid = torch.nn.Sigmoid()\n",
    "        self.softmax = torch.nn.Softmax(dim=1)\n",
    "        self.relu = torch.nn.ReLU()\n",
    "    def forward(self,x):\n",
    "        # x is of size (64,1,28,28)\n",
    "        # reshape to (64,784)\n",
    "        x = x.view(x.shape[0],-1)\n",
    "        x = self.fc1.forward(x)\n",
    "        x = self.relu(x)\n",
    "        x = self.fc2(x)\n",
    "        x = self.relu(x)\n",
    "        x = self.fc3(x)\n",
    "        x = self.softmax(x)\n",
    "        return x\n",
    "        "
   ]
  },
  {
   "cell_type": "code",
   "execution_count": 15,
   "metadata": {},
   "outputs": [],
   "source": [
    "model = MLP()\n",
    "\n",
    "criterion = torch.nn.CrossEntropyLoss()\n",
    "\n",
    "optimizer = optim.SGD(model.parameters(),lr = 0.05)"
   ]
  },
  {
   "cell_type": "code",
   "execution_count": 22,
   "metadata": {},
   "outputs": [
    {
     "name": "stdout",
     "output_type": "stream",
     "text": [
      "Epoch 1\n",
      "Train accuracy: 1423.7482254505157\n",
      "Test accuracy: 0.9515591859817505\n",
      "Epoch 2\n",
      "Train accuracy: 1420.9506032466888\n",
      "Test accuracy: 0.9500433206558228\n",
      "Epoch 3\n",
      "Train accuracy: 1418.1968749761581\n",
      "Test accuracy: 0.9564065933227539\n",
      "Epoch 4\n",
      "Train accuracy: 1415.913057088852\n",
      "Test accuracy: 0.9565231800079346\n",
      "Epoch 5\n",
      "Train accuracy: 1413.7769304513931\n",
      "Test accuracy: 0.9570229053497314\n"
     ]
    }
   ],
   "source": [
    "epochs = 5\n",
    "for e in range(epochs):\n",
    "    print('Epoch {}'.format(e+1))\n",
    "    running_loss = 0\n",
    "    for images,labels in trainloader:\n",
    "        optimizer.zero_grad()\n",
    "        logits = model.forward(images)\n",
    "        loss = criterion(logits,labels)\n",
    "        loss.backward()\n",
    "        optimizer.step()\n",
    "        running_loss += loss.item()\n",
    "    else:\n",
    "        accuracy = 0\n",
    "        with torch.no_grad():\n",
    "            for images,labels in testloader:\n",
    "                logit = model(images)\n",
    "                ps = logit #torch.exp(logit)\n",
    "                top_p,top_class = ps.topk(1,dim = 1)\n",
    "                equals = top_class == labels.view(*top_class.shape)\n",
    "#                 accuracy += torch.mean(equals.type(torch.FloatTensor))\n",
    "                accuracy += torch.mean(equals.type(torch.FloatTensor))                \n",
    "        print('Train accuracy: {}'.format(running_loss))\n",
    "        print('Test accuracy: {}'.format((accuracy/len(testloader)).data.numpy()))bb"
   ]
  }
 ],
 "metadata": {
  "kernelspec": {
   "display_name": "SMAI",
   "language": "python",
   "name": "smai"
  },
  "language_info": {
   "codemirror_mode": {
    "name": "ipython",
    "version": 3
   },
   "file_extension": ".py",
   "mimetype": "text/x-python",
   "name": "python",
   "nbconvert_exporter": "python",
   "pygments_lexer": "ipython3",
   "version": "3.8.2"
  }
 },
 "nbformat": 4,
 "nbformat_minor": 4
}
