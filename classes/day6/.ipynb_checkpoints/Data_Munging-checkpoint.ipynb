{
 "cells": [
  {
   "cell_type": "markdown",
   "metadata": {
    "colab_type": "text",
    "id": "XvFEBIJwYD_Y"
   },
   "source": [
    "#### Task overview\n",
    "We have a file that contains the gender, height and weight information. A typical line of the file is:\n",
    "\n",
    "\"Male\",66.3162319187446,170.593858104457\n",
    "\n",
    "We want to store all such lines in convenient data structures as three separate items and be able to manipulate them."
   ]
  },
  {
   "cell_type": "markdown",
   "metadata": {
    "colab_type": "text",
    "id": "TRGuvzsMYLwb"
   },
   "source": [
    "### Setup Steps"
   ]
  },
  {
   "cell_type": "code",
   "execution_count": 1,
   "metadata": {
    "cellView": "form",
    "colab": {
     "base_uri": "https://localhost:8080/",
     "height": 34
    },
    "colab_type": "code",
    "executionInfo": {
     "elapsed": 8584,
     "status": "ok",
     "timestamp": 1590991482863,
     "user": {
      "displayName": "Chris Andrew",
      "photoUrl": "https://lh3.googleusercontent.com/a-/AOh14GijPE5GK3ACK78y2NM8U3riMZg2uPi2wSYD0XE1rjc=s64",
      "userId": "14503470327412570349"
     },
     "user_tz": -330
    },
    "id": "ZxpjcYfxskaO",
    "outputId": "6d65394c-f1ac-4c08-9e56-3685c9864c55"
   },
   "outputs": [
    {
     "name": "stdout",
     "output_type": "stream",
     "text": [
      "Setup completed successfully\n"
     ]
    }
   ],
   "source": [
    "#@title Run this cell to complete the setup for this Notebook\n",
    "from IPython import get_ipython\n",
    "\n",
    "ipython = get_ipython()\n",
    "\n",
    "\n",
    "#  ipython.magic(\"sx pip3 install torch\") \n",
    "ipython.magic(\"sx wget https://cdn.talentsprint.com/aiml/Experiment_related_data/Week0-part_gender_height_weight.csv\")\n",
    "ipython.magic(\"sx wget https://cdn.talentsprint.com/aiml/Experiment_related_data/Week0-full_gender_height_weight.csv\")\n",
    "from IPython.display import HTML, display\n",
    "# display(HTML('<script src=\"https://dashboard.talentsprint.com/aiml/record_ip.html?traineeId={0}&recordId={1}\"></script>'.format(getId(),submission_id)))\n",
    "print(\"Setup completed successfully\")\n",
    "\n",
    "\n"
   ]
  },
  {
   "cell_type": "code",
   "execution_count": 2,
   "metadata": {
    "colab": {
     "base_uri": "https://localhost:8080/",
     "height": 185
    },
    "colab_type": "code",
    "executionInfo": {
     "elapsed": 4246,
     "status": "ok",
     "timestamp": 1590991490034,
     "user": {
      "displayName": "Chris Andrew",
      "photoUrl": "https://lh3.googleusercontent.com/a-/AOh14GijPE5GK3ACK78y2NM8U3riMZg2uPi2wSYD0XE1rjc=s64",
      "userId": "14503470327412570349"
     },
     "user_tz": -330
    },
    "id": "LPV-ZL5QYD_e",
    "outputId": "6bc5a7d0-92fc-474e-b4af-8605044b4dfb"
   },
   "outputs": [
    {
     "name": "stdout",
     "output_type": "stream",
     "text": [
      "\"Gender\",\"Height\",\"Weight\"\r\n",
      "\"Male\",69.1798576188774,192.014335412005\r\n",
      "\"Male\",66.4712752615182,172.773722928412\r\n",
      "\"Male\",66.202347706273,159.390323744187\r\n",
      "\"Male\",66.3162319187446,170.593858104457\r\n",
      "\"Male\",73.8153856882339,231.374508117238\r\n",
      "\"Male\",71.4189459863648,198.042483889936\r\n",
      "\"Male\",72.001732217799,196.214414481383\r\n",
      "\"Male\",67.2663627155588,192.4707695606\r\n",
      "\"Male\",63.6725831540933,161.013145838894\r\n"
     ]
    }
   ],
   "source": [
    "## We take a look at the contents of the file \n",
    "## by using the shell command head\n",
    "!head Week0-part_gender_height_weight.csv"
   ]
  },
  {
   "cell_type": "code",
   "execution_count": 3,
   "metadata": {
    "colab": {},
    "colab_type": "code",
    "id": "SUBAbIia8wg0"
   },
   "outputs": [
    {
     "name": "stdout",
     "output_type": "stream",
     "text": [
      "\"Female\",67.519733141364,163.490831665133\r\n",
      "\"Female\",64.408825123937,139.604219139648\r\n",
      "\"Female\",65.0716653479706,137.629857954212\r\n",
      "\"Female\",61.5046182003953,122.286750997725\r\n",
      "\"Female\",62.788759576151,120.013226214053\r\n",
      "\"Female\",62.7434778192535,138.557941544823\r\n",
      "\"Female\",63.290223692792,133.292934706536\r\n",
      "\"Female\",62.7896653703462,132.230275678311\r\n",
      "\"Female\",64.863385916734,138.484541094995\r\n",
      "\"Female\",69.0342431307346,163.852461346571\r\n"
     ]
    }
   ],
   "source": [
    "!tail Week0-part_gender_height_weight.csv"
   ]
  },
  {
   "cell_type": "markdown",
   "metadata": {
    "colab_type": "text",
    "id": "r2rsOiejYD_j"
   },
   "source": [
    "We start by simply reading the file and storing it. But we want to skip the first line as it is a header and does not have data. We also want to store the data instead of merely printing it. But we will print the first ten items to verify that all is well."
   ]
  },
  {
   "cell_type": "code",
   "execution_count": 4,
   "metadata": {
    "colab": {},
    "colab_type": "code",
    "id": "kER4ATmNYD_k"
   },
   "outputs": [],
   "source": [
    "PART_DATA = \"Week0-part_gender_height_weight.csv\"\n",
    "FULL_DATA = \"Week0-full_gender_height_weight.csv\""
   ]
  },
  {
   "cell_type": "code",
   "execution_count": 5,
   "metadata": {
    "colab": {
     "base_uri": "https://localhost:8080/",
     "height": 54
    },
    "colab_type": "code",
    "executionInfo": {
     "elapsed": 835,
     "status": "ok",
     "timestamp": 1590969119104,
     "user": {
      "displayName": "Chris Andrew",
      "photoUrl": "https://lh3.googleusercontent.com/a-/AOh14GijPE5GK3ACK78y2NM8U3riMZg2uPi2wSYD0XE1rjc=s64",
      "userId": "14503470327412570349"
     },
     "user_tz": -330
    },
    "id": "ulKDEpEzYD_o",
    "outputId": "7e608b49-d5b5-400f-ced9-0e220d04f2e8"
   },
   "outputs": [
    {
     "name": "stdout",
     "output_type": "stream",
     "text": [
      "['\"Male\",73.847017017515,241.893563180437\\n', '\"Male\",68.7819040458903,162.310472521300\\n', '\"Male\",74.1101053917849,212.7408555565\\n', '\"Male\",71.7309784033377,220.042470303077\\n', '\"Male\",69.8817958611153,206.349800623871\\n', '\"Male\",67.2530156878065,152.212155757083\\n', '\"Male\",68.7850812516616,183.927888604031\\n', '\"Male\",68.3485155115879,167.971110489509\\n', '\"Male\",67.018949662883,175.92944039571\\n', '\"Male\",63.4564939783664,156.399676387112\\n']\n"
     ]
    }
   ],
   "source": [
    "firstLine = True\n",
    "data = []\n",
    "for line in open(FULL_DATA):\n",
    "    if firstLine:\n",
    "        firstLine = False\n",
    "    else:\n",
    "        data.append(line)\n",
    "print(data[:10])"
   ]
  },
  {
   "cell_type": "markdown",
   "metadata": {
    "colab_type": "text",
    "id": "2g8F-jC_YD_s"
   },
   "source": [
    "As you can see, there are some extraneous stuff:\n",
    "  1. A \\n at the end of each line\n",
    "  2. The double quotes around the gender\n",
    "  3. Also the line is a single string separated by commas\n",
    "  \n",
    "We handle these issues in the next version "
   ]
  },
  {
   "cell_type": "markdown",
   "metadata": {
    "colab_type": "text",
    "id": "7UJYyewULHdx"
   },
   "source": [
    "### TASK 1: Read the different fields from the raw data and create a list of list with appropriate datatypes for each column."
   ]
  },
  {
   "cell_type": "code",
   "execution_count": 0,
   "metadata": {
    "colab": {},
    "colab_type": "code",
    "id": "f-e__NuQLCQZ"
   },
   "outputs": [],
   "source": [
    "def read_data(filename):\n",
    "  final_data = []\n",
    "  # Add code here\n",
    "\n",
    "  return final_data\n",
    "\n",
    "data = read_data(FULL_DATA)\n",
    "\n",
    "# NOTE: Data should be of format: [[\"Male\", 73.23, 241.34], [\"Female\", 56.32, 154.344], ....]\n"
   ]
  },
  {
   "cell_type": "markdown",
   "metadata": {
    "colab_type": "text",
    "id": "bVN9ab2LYD_x"
   },
   "source": [
    "Now we need to convert inches to cm, pounds to kg and round these to the nearest integer and we are done. Here is the final code to do the same."
   ]
  },
  {
   "cell_type": "code",
   "execution_count": 0,
   "metadata": {
    "colab": {},
    "colab_type": "code",
    "id": "r-oOXVNTYD_z"
   },
   "outputs": [],
   "source": [
    "def read_data_2(filename):\n",
    "  final_data = []\n",
    "  # Add code here, but also convert inches to cm and pounds to kg and round to nearest integer while reading.\n",
    "  #NOTE: 1 inch = 2.54 cm, 1 pound = 0.4536 kg\n",
    "\n",
    "  return final_data\n",
    "\n",
    "data = read_data_2(FULL_DATA)\n"
   ]
  },
  {
   "cell_type": "markdown",
   "metadata": {
    "colab_type": "text",
    "id": "7aieSly2YD_3"
   },
   "source": [
    "One reason python is popular for Scientific Computing is the availability of libraries that do a lot of standard, grunt work in a few lines. We will see how the pandas library can make short work of all the above"
   ]
  },
  {
   "cell_type": "code",
   "execution_count": 0,
   "metadata": {
    "colab": {},
    "colab_type": "code",
    "id": "ixXqhUglYD_4"
   },
   "outputs": [],
   "source": [
    "import pandas as pd\n",
    "pd.read_csv(PART_DATA)"
   ]
  },
  {
   "cell_type": "markdown",
   "metadata": {
    "colab_type": "text",
    "id": "esEj3TzGYD_9"
   },
   "source": [
    "As you can see, pandas gives you a nice display! It figured out the column titles and numbered the data also. It actually loads the data into a dataframe, and we can treat each column as a dictionary whose key is the column name and value is the actual data in the column. Note that the datatype has been inferred too."
   ]
  },
  {
   "cell_type": "code",
   "execution_count": 0,
   "metadata": {
    "colab": {},
    "colab_type": "code",
    "id": "LtMKJ3F6YD__"
   },
   "outputs": [],
   "source": [
    "data = pd.read_csv(FULL_DATA)\n",
    "type(data['Gender']), type(data['Height'][1]), type(data['Weight'][30])"
   ]
  },
  {
   "cell_type": "code",
   "execution_count": 0,
   "metadata": {
    "colab": {},
    "colab_type": "code",
    "id": "6CtN_XiItRHz"
   },
   "outputs": [],
   "source": [
    "data[\"Gender\"][21]"
   ]
  },
  {
   "cell_type": "code",
   "execution_count": 0,
   "metadata": {
    "colab": {},
    "colab_type": "code",
    "id": "r17T2k1YYEAI"
   },
   "outputs": [],
   "source": [
    "data.Weight"
   ]
  },
  {
   "cell_type": "code",
   "execution_count": 0,
   "metadata": {
    "colab": {},
    "colab_type": "code",
    "id": "p8QYKPM3ShBV"
   },
   "outputs": [],
   "source": [
    "df = pd.read_csv(PART_DATA, header=0, names=[\"GEN\", \"HT\", \"WT\"])\n",
    "df.GEN"
   ]
  },
  {
   "cell_type": "markdown",
   "metadata": {
    "colab_type": "text",
    "id": "5uQ8gTIFYEAM"
   },
   "source": [
    "Pandas gives you even more flexibility as part of the read_csv function. We can attach converters to selected columns. "
   ]
  },
  {
   "cell_type": "code",
   "execution_count": 0,
   "metadata": {
    "colab": {},
    "colab_type": "code",
    "id": "0vKu3MiYYEAN"
   },
   "outputs": [],
   "source": [
    "def inches2cms(s):\n",
    "    return int(float(s) * 2.54 + 0.5)\n",
    "def pounds2kgs(s):\n",
    "    return int(float(s) * 0.4536 + 0.5)"
   ]
  },
  {
   "cell_type": "code",
   "execution_count": 0,
   "metadata": {
    "colab": {},
    "colab_type": "code",
    "id": "NHVW1d9cYEAS"
   },
   "outputs": [],
   "source": [
    "pd.read_csv(FULL_DATA, converters={'Height':inches2cms, 'Weight':pounds2kgs})"
   ]
  },
  {
   "cell_type": "markdown",
   "metadata": {
    "colab_type": "text",
    "id": "sosLKGdxYEAV"
   },
   "source": [
    "So our final code will be"
   ]
  },
  {
   "cell_type": "code",
   "execution_count": 0,
   "metadata": {
    "colab": {},
    "colab_type": "code",
    "id": "ZoZ060PkYEAW"
   },
   "outputs": [],
   "source": [
    "import pandas as pd\n",
    "\n",
    "def inches2cms(s):\n",
    "    return int(float(s) * 2.54 + 0.5)\n",
    "def pounds2kgs(s):\n",
    "    return int(float(s) * 0.4536 + 0.5)\n",
    "data = pd.read_csv(FULL_DATA, converters={'Height':inches2cms, 'Weight':pounds2kgs})\n",
    "data[:10]"
   ]
  },
  {
   "cell_type": "markdown",
   "metadata": {
    "colab_type": "text",
    "collapsed": true,
    "id": "sSJ6H1yrYEAd"
   },
   "source": [
    "### Plotting Excercises\n"
   ]
  },
  {
   "cell_type": "markdown",
   "metadata": {
    "colab_type": "text",
    "id": "LOq0zW03PBwD"
   },
   "source": [
    "Plot the height and weight of the samples in a scatter plot with different markers/colors for male and female."
   ]
  },
  {
   "cell_type": "code",
   "execution_count": 0,
   "metadata": {
    "colab": {},
    "colab_type": "code",
    "id": "IfdWvCgUYEAj"
   },
   "outputs": [],
   "source": [
    "# Code here\n"
   ]
  },
  {
   "cell_type": "markdown",
   "metadata": {
    "colab_type": "text",
    "id": "7CPx-CgrPUIO"
   },
   "source": [
    "Plot the height and weight of all samples in a scatter plot. Include markers for people who are overweight. Men with weight > 100 ad women with weight > 80 can be considered overweight."
   ]
  },
  {
   "cell_type": "code",
   "execution_count": 0,
   "metadata": {
    "colab": {},
    "colab_type": "code",
    "id": "oJ0ZPXXYYEAn"
   },
   "outputs": [],
   "source": [
    "# Code here\n"
   ]
  },
  {
   "cell_type": "markdown",
   "metadata": {
    "colab_type": "text",
    "id": "7V0azfEyQQop"
   },
   "source": [
    "Plot box plots for height in men and women. You can read more about box plots here: https://towardsdatascience.com/understanding-boxplots-5e2df7bcbd51"
   ]
  },
  {
   "cell_type": "code",
   "execution_count": 0,
   "metadata": {
    "colab": {},
    "colab_type": "code",
    "id": "LDAl0Dn7YEAs"
   },
   "outputs": [],
   "source": [
    "# Code here\n"
   ]
  }
 ],
 "metadata": {
  "colab": {
   "collapsed_sections": [],
   "name": "Data_Munging.ipynb",
   "provenance": []
  },
  "kernelspec": {
   "display_name": "Python 3",
   "language": "python",
   "name": "python3"
  },
  "language_info": {
   "codemirror_mode": {
    "name": "ipython",
    "version": 3
   },
   "file_extension": ".py",
   "mimetype": "text/x-python",
   "name": "python",
   "nbconvert_exporter": "python",
   "pygments_lexer": "ipython3",
   "version": "3.8.2"
  }
 },
 "nbformat": 4,
 "nbformat_minor": 1
}
