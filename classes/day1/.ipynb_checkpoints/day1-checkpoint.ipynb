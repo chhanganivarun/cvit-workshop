{
 "cells": [
  {
   "cell_type": "code",
   "execution_count": 3,
   "metadata": {},
   "outputs": [],
   "source": [
    "import numpy as np"
   ]
  },
  {
   "cell_type": "code",
   "execution_count": 36,
   "metadata": {},
   "outputs": [
    {
     "name": "stdout",
     "output_type": "stream",
     "text": [
      "[10, 6, 9, 2, 4, 1, 3, 3, 6, 8]\n",
      "[8, 6, 3, 3, 1, 4, 2, 9, 6, 10]\n",
      "[1, 3, 3, 6, 8]\n",
      "[10, 6, 2, 4, 1, 3, 3, 6, 8]\n"
     ]
    },
    {
     "name": "stderr",
     "output_type": "stream",
     "text": [
      "<ipython-input-36-22fbf77fe476>:1: DeprecationWarning: This function is deprecated. Please call randint(1, 10 + 1) instead\n",
      "  X = np.random.random_integers(10,size = 10).tolist()\n"
     ]
    }
   ],
   "source": [
    "X = np.random.random_integers(10,size = 10).tolist()\n",
    "print(X)\n",
    "# Task 1.1, print a list in reverse order \n",
    "print(X[::-1])\n",
    "# Task 1.2, print only the last 5 elements of a list \n",
    "print(X[-5:])\n",
    "# Task 1.3, remove the 3rd element from the list\n",
    "del X[2]\n",
    "print(X)"
   ]
  },
  {
   "cell_type": "code",
   "execution_count": 4,
   "metadata": {},
   "outputs": [],
   "source": [
    "a = np.random.rand(5)"
   ]
  },
  {
   "cell_type": "code",
   "execution_count": 5,
   "metadata": {},
   "outputs": [
    {
     "data": {
      "text/plain": [
       "[0.9651982524030386,\n",
       " 0.32962008351426086,\n",
       " 0.32115124094546765,\n",
       " 0.2871657477391838,\n",
       " 0.19587140529848235]"
      ]
     },
     "execution_count": 5,
     "metadata": {},
     "output_type": "execute_result"
    }
   ],
   "source": [
    "sorted(list(a),reverse=True)"
   ]
  },
  {
   "cell_type": "code",
   "execution_count": 6,
   "metadata": {},
   "outputs": [
    {
     "name": "stdout",
     "output_type": "stream",
     "text": [
      "{1: 0, 10: 1, 100: 2, 1000: 3, 10000: 4, 100000: 5, 1000000: 6, 10000000: 7, 100000000: 8, 1000000000: 9}\n",
      "dict_keys([1, 10, 100, 1000, 10000, 100000, 1000000, 10000000, 100000000, 1000000000])\n",
      "2\n",
      "[(1, 0), (10, 1), (1000, 3), (10000, 4), (100000, 5), (1000000, 6), (10000000, 7), (100000000, 8), (1000000000, 9)]\n"
     ]
    }
   ],
   "source": [
    "x = dict([(pow(10,r),r) for r in range(10)])\n",
    "print(x)\n",
    "# Task 2.1: List all the keys inside the dict \n",
    "print(x.keys())\n",
    "\n",
    "# Task 2.2: Remove key 100 from the dict \n",
    "print(x.pop(100))\n",
    "# Task 2.3: Convert the above dict into a list of key, value tuple. Then sort the list based on mod of the key value with number 101\n",
    "print(list(x.items()))"
   ]
  },
  {
   "cell_type": "code",
   "execution_count": 7,
   "metadata": {},
   "outputs": [],
   "source": [
    "X = np.random.rand(3,3)"
   ]
  },
  {
   "cell_type": "code",
   "execution_count": 8,
   "metadata": {},
   "outputs": [
    {
     "data": {
      "text/plain": [
       "array([[0.15554595, 0.41046191, 0.19809478],\n",
       "       [0.06283371, 0.49669124, 0.19801608],\n",
       "       [0.68477415, 0.14292465, 0.2724641 ]])"
      ]
     },
     "execution_count": 8,
     "metadata": {},
     "output_type": "execute_result"
    }
   ],
   "source": [
    "X"
   ]
  },
  {
   "cell_type": "code",
   "execution_count": 9,
   "metadata": {},
   "outputs": [],
   "source": [
    "from numpy import linalg as LA"
   ]
  },
  {
   "cell_type": "code",
   "execution_count": 10,
   "metadata": {},
   "outputs": [],
   "source": [
    "u,d,v = LA.svd(X)"
   ]
  },
  {
   "cell_type": "code",
   "execution_count": 11,
   "metadata": {},
   "outputs": [],
   "source": [
    "X_reg = u.dot(np.diag(d)).dot(v)"
   ]
  },
  {
   "cell_type": "code",
   "execution_count": 12,
   "metadata": {},
   "outputs": [
    {
     "name": "stdout",
     "output_type": "stream",
     "text": [
      "[[-335.21503877  261.59542263   53.60063529]\n",
      " [-371.06766655  292.11982941   57.48333031]\n",
      " [1037.13227525 -810.69362675 -161.1959693 ]]\n"
     ]
    }
   ],
   "source": [
    "X_inv = LA.inv(X)\n",
    "print(X_inv)"
   ]
  },
  {
   "cell_type": "code",
   "execution_count": 13,
   "metadata": {},
   "outputs": [
    {
     "data": {
      "text/plain": [
       "array([[ 1.00000000e+00,  1.04576897e-14,  2.26888197e-15],\n",
       "       [-2.92177124e-15,  1.00000000e+00, -9.76273563e-15],\n",
       "       [ 2.63367740e-14,  1.98324316e-14,  1.00000000e+00]])"
      ]
     },
     "execution_count": 13,
     "metadata": {},
     "output_type": "execute_result"
    }
   ],
   "source": [
    "X_inv.dot(X)"
   ]
  },
  {
   "cell_type": "code",
   "execution_count": 14,
   "metadata": {},
   "outputs": [
    {
     "data": {
      "text/plain": [
       "array([[0.15554595, 0.06283371, 0.68477415],\n",
       "       [0.41046191, 0.49669124, 0.14292465],\n",
       "       [0.19809478, 0.19801608, 0.2724641 ]])"
      ]
     },
     "execution_count": 14,
     "metadata": {},
     "output_type": "execute_result"
    }
   ],
   "source": [
    "(v.T).dot(np.diag(d)).dot(u.T)"
   ]
  },
  {
   "cell_type": "code",
   "execution_count": 15,
   "metadata": {},
   "outputs": [
    {
     "data": {
      "text/plain": [
       "array([[0.15554595, 0.41046191, 0.19809478],\n",
       "       [0.06283371, 0.49669124, 0.19801608],\n",
       "       [0.68477415, 0.14292465, 0.2724641 ]])"
      ]
     },
     "execution_count": 15,
     "metadata": {},
     "output_type": "execute_result"
    }
   ],
   "source": [
    "X"
   ]
  },
  {
   "cell_type": "code",
   "execution_count": 16,
   "metadata": {},
   "outputs": [
    {
     "data": {
      "text/plain": [
       "array([[-335.21503877,  261.59542263,   53.60063529],\n",
       "       [-371.06766655,  292.11982941,   57.48333031],\n",
       "       [1037.13227525, -810.69362675, -161.1959693 ]])"
      ]
     },
     "execution_count": 16,
     "metadata": {},
     "output_type": "execute_result"
    }
   ],
   "source": [
    "v.T@(LA.inv(np.diag(d)))@(u.T)"
   ]
  },
  {
   "cell_type": "code",
   "execution_count": 17,
   "metadata": {},
   "outputs": [],
   "source": [
    "import matplotlib.pyplot as plt"
   ]
  },
  {
   "cell_type": "code",
   "execution_count": 42,
   "metadata": {},
   "outputs": [
    {
     "data": {
      "image/png": "[encoded data removed]",
      "text/plain": [
       "<Figure size 432x288 with 1 Axes>"
      ]
     },
     "metadata": {
      "needs_background": "light"
     },
     "output_type": "display_data"
    }
   ],
   "source": [
    "ind = np.arange(0,3*np.pi,0.1)\n",
    "y1 = np.sin(ind)\n",
    "y2 = np.cos(ind)\n",
    "plt.plot(ind,y1,label='sine')\n",
    "plt.plot(ind,y2,label='cosine')\n",
    "plt.scatter(y2+0.1*np.random.rand(y2.size),y1+0.1*np.random.rand(y1.size),label = 'ellipse')\n",
    "plt.legend()\n",
    "plt.show()"
   ]
  },
  {
   "cell_type": "code",
   "execution_count": 19,
   "metadata": {},
   "outputs": [],
   "source": [
    "# Write code here to decide the apt. parameters\n",
    "\n",
    "### Star Code Here ###\n",
    "a = 1\n",
    "b = 0\n",
    "c = -25\n",
    "Y = np.linspace(-50,50)\n",
    "X = (-b*Y-c)/a\n",
    "### End Code Here ###"
   ]
  },
  {
   "cell_type": "code",
   "execution_count": 20,
   "metadata": {},
   "outputs": [
    {
     "data": {
      "text/plain": [
       "[<matplotlib.lines.Line2D at 0x7f956ea9f4f0>]"
      ]
     },
     "execution_count": 20,
     "metadata": {},
     "output_type": "execute_result"
    },
    {
     "data": {
      "image/png": "[encoded data removed]",
      "text/plain": [
       "<Figure size 432x288 with 1 Axes>"
      ]
     },
     "metadata": {
      "needs_background": "light"
     },
     "output_type": "display_data"
    }
   ],
   "source": [
    "# Visualising the line\n",
    "%matplotlib inline\n",
    "plt.plot(X, Y)"
   ]
  },
  {
   "cell_type": "code",
   "execution_count": 26,
   "metadata": {},
   "outputs": [
    {
     "data": {
      "text/plain": [
       "<matplotlib.legend.Legend at 0x7f956e856220>"
      ]
     },
     "execution_count": 26,
     "metadata": {},
     "output_type": "execute_result"
    },
    {
     "data": {
      "image/png": "[encoded data removed]",
      "text/plain": [
       "<Figure size 432x288 with 1 Axes>"
      ]
     },
     "metadata": {
      "needs_background": "light"
     },
     "output_type": "display_data"
    }
   ],
   "source": [
    "scale = 25\n",
    "w = scale * np.array([a, b]) # From the definition laid out in the writeup\n",
    "%matplotlib inline\n",
    "plt.plot(X, Y, label = 'line')\n",
    "plt.plot([0, w[0]], [0, w[1]], 'r-', label = 'w-vector')\n",
    "plt.legend(loc = \"lower left\")"
   ]
  },
  {
   "cell_type": "code",
   "execution_count": 49,
   "metadata": {},
   "outputs": [],
   "source": [
    "# Write your solution here\n",
    "def distance_from_origin(a, b, c):\n",
    "    return abs(c)/LA.norm([a,b])"
   ]
  },
  {
   "cell_type": "code",
   "execution_count": 53,
   "metadata": {},
   "outputs": [
    {
     "data": {
      "image/png": "[encoded data removed]",
      "text/plain": [
       "<Figure size 432x288 with 1 Axes>"
      ]
     },
     "metadata": {
      "needs_background": "light"
     },
     "output_type": "display_data"
    },
    {
     "data": {
      "text/plain": [
       "25.0"
      ]
     },
     "execution_count": 53,
     "metadata": {},
     "output_type": "execute_result"
    }
   ],
   "source": [
    "a = 0\n",
    "b = 1\n",
    "c = -25 \n",
    "X = np.linspace(-50,50)\n",
    "Y = (-a*X-c)/b\n",
    "plt.plot(X,Y)\n",
    "plt.show()\n",
    "distance_from_origin(a,b,c)"
   ]
  },
  {
   "cell_type": "code",
   "execution_count": 54,
   "metadata": {},
   "outputs": [
    {
     "data": {
      "image/png": "[encoded data removed]",
      "text/plain": [
       "<Figure size 432x288 with 1 Axes>"
      ]
     },
     "metadata": {
      "needs_background": "light"
     },
     "output_type": "display_data"
    },
    {
     "data": {
      "text/plain": [
       "50.0"
      ]
     },
     "execution_count": 54,
     "metadata": {},
     "output_type": "execute_result"
    }
   ],
   "source": [
    "a = 1\n",
    "b = 0\n",
    "c = -50 \n",
    "Y = np.linspace(-50,50)\n",
    "X = (-b*Y-c)/a\n",
    "plt.plot(X,Y)\n",
    "plt.show()\n",
    "distance_from_origin(a,b,c)"
   ]
  },
  {
   "cell_type": "markdown",
   "metadata": {},
   "source": [
    "# Sigmoid\n",
    "$$\n",
    "\\frac{1}{1+e^{-W\\cdot X}}\n",
    "$$"
   ]
  },
  {
   "cell_type": "code",
   "execution_count": 70,
   "metadata": {},
   "outputs": [
    {
     "data": {
      "text/plain": [
       "[<matplotlib.lines.Line2D at 0x7f956d8725b0>]"
      ]
     },
     "execution_count": 70,
     "metadata": {},
     "output_type": "execute_result"
    },
    {
     "data": {
      "image/png": "[encoded data removed]",
      "text/plain": [
       "<Figure size 432x288 with 1 Axes>"
      ]
     },
     "metadata": {
      "needs_background": "light"
     },
     "output_type": "display_data"
    }
   ],
   "source": [
    "def sigmoid(x):\n",
    "    return 1/(1+np.exp(-x))\n",
    "X = np.linspace(-20,20)\n",
    "plt.plot(X,np.vectorize(sigmoid)(0.5*X))"
   ]
  },
  {
   "cell_type": "code",
   "execution_count": 81,
   "metadata": {},
   "outputs": [
    {
     "data": {
      "text/plain": [
       "[<matplotlib.lines.Line2D at 0x7f956d286fd0>]"
      ]
     },
     "execution_count": 81,
     "metadata": {},
     "output_type": "execute_result"
    },
    {
     "data": {
      "image/png": "[encoded data removed]",
      "text/plain": [
       "<Figure size 432x288 with 1 Axes>"
      ]
     },
     "metadata": {
      "needs_background": "light"
     },
     "output_type": "display_data"
    }
   ],
   "source": [
    "def relu(x):\n",
    "    return max(0,x)\n",
    "X = np.arange(-20,20)\n",
    "plt.plot(X,np.vectorize(relu)(X))"
   ]
  },
  {
   "cell_type": "code",
   "execution_count": 75,
   "metadata": {},
   "outputs": [
    {
     "data": {
      "text/plain": [
       "[<matplotlib.lines.Line2D at 0x7f956daa0b20>]"
      ]
     },
     "execution_count": 75,
     "metadata": {},
     "output_type": "execute_result"
    },
    {
     "data": {
      "image/png": "[encoded data removed]",
      "text/plain": [
       "<Figure size 432x288 with 1 Axes>"
      ]
     },
     "metadata": {
      "needs_background": "light"
     },
     "output_type": "display_data"
    }
   ],
   "source": [
    "def leaky_relu(x):\n",
    "    return max(0.1*x,x)\n",
    "X = np.arange(-20,20,0.01)\n",
    "plt.plot(X,np.vectorize(leaky_relu)(X))"
   ]
  },
  {
   "cell_type": "code",
   "execution_count": 82,
   "metadata": {},
   "outputs": [
    {
     "data": {
      "text/plain": [
       "[<matplotlib.lines.Line2D at 0x7f956d259f40>]"
      ]
     },
     "execution_count": 82,
     "metadata": {},
     "output_type": "execute_result"
    },
    {
     "data": {
      "image/png": "[encoded data removed]",
      "text/plain": [
       "<Figure size 432x288 with 1 Axes>"
      ]
     },
     "metadata": {
      "needs_background": "light"
     },
     "output_type": "display_data"
    }
   ],
   "source": [
    "def gaussian(x):\n",
    "    return np.exp(-x**2)\n",
    "X = np.arange(-20,20,0.01)\n",
    "plt.plot(X,np.vectorize(gaussian)(X))"
   ]
  },
  {
   "cell_type": "code",
   "execution_count": 83,
   "metadata": {},
   "outputs": [
    {
     "data": {
      "text/plain": [
       "[<matplotlib.lines.Line2D at 0x7f956dee0340>]"
      ]
     },
     "execution_count": 83,
     "metadata": {},
     "output_type": "execute_result"
    },
    {
     "data": {
      "image/png": "[encoded data removed]",
      "text/plain": [
       "<Figure size 432x288 with 1 Axes>"
      ]
     },
     "metadata": {
      "needs_background": "light"
     },
     "output_type": "display_data"
    }
   ],
   "source": [
    "def step(x):\n",
    "    return 1 if x>0 else 0\n",
    "X = np.arange(-20,20,0.01)\n",
    "plt.plot(X,np.vectorize(step)(X))"
   ]
  },
  {
   "cell_type": "code",
   "execution_count": 84,
   "metadata": {},
   "outputs": [
    {
     "data": {
      "text/plain": [
       "[<matplotlib.lines.Line2D at 0x7f956db20d90>]"
      ]
     },
     "execution_count": 84,
     "metadata": {},
     "output_type": "execute_result"
    },
    {
     "data": {
      "image/png": "[encoded data removed]",
      "text/plain": [
       "<Figure size 432x288 with 1 Axes>"
      ]
     },
     "metadata": {
      "needs_background": "light"
     },
     "output_type": "display_data"
    }
   ],
   "source": [
    "def tanh(x):\n",
    "    return (np.exp(2*x)-1)/(np.exp(2*x)+1)\n",
    "X = np.arange(-20,20,0.01)\n",
    "plt.plot(X,np.vectorize(tanh)(X))"
   ]
  },
  {
   "cell_type": "code",
   "execution_count": null,
   "metadata": {},
   "outputs": [],
   "source": []
  }
 ],
 "metadata": {
  "kernelspec": {
   "display_name": "SMAI",
   "language": "python",
   "name": "smai"
  },
  "language_info": {
   "codemirror_mode": {
    "name": "ipython",
    "version": 3
   },
   "file_extension": ".py",
   "mimetype": "text/x-python",
   "name": "python",
   "nbconvert_exporter": "python",
   "pygments_lexer": "ipython3",
   "version": "3.8.2"
  }
 },
 "nbformat": 4,
 "nbformat_minor": 4
}
