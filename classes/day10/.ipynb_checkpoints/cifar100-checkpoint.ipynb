{
 "cells": [
  {
   "cell_type": "code",
   "execution_count": 1,
   "metadata": {},
   "outputs": [],
   "source": [
    "import torch\n",
    "import numpy\n",
    "from torch import nn\n",
    "import torchvision\n",
    "from torchvision import transforms, datasets\n",
    "from torch import optim"
   ]
  },
  {
   "cell_type": "code",
   "execution_count": 2,
   "metadata": {},
   "outputs": [],
   "source": [
    "import torch.nn.functional as F"
   ]
  },
  {
   "cell_type": "code",
   "execution_count": 3,
   "metadata": {},
   "outputs": [],
   "source": [
    "transform = transforms.Compose([transforms.ToTensor(),\n",
    "                              transforms.Normalize((0.5,),(0.5,)),\n",
    "                              ])"
   ]
  },
  {
   "cell_type": "code",
   "execution_count": 5,
   "metadata": {},
   "outputs": [
    {
     "name": "stdout",
     "output_type": "stream",
     "text": [
      "Downloading https://www.cs.toronto.edu/~kriz/cifar-100-python.tar.gz to /home/varun/.pytorch/CIFAR100_data/cifar-100-python.tar.gz\n"
     ]
    },
    {
     "data": {
      "application/vnd.jupyter.widget-view+json": {
       "model_id": "62f5a9fc253f4fea9a20c227847a820a",
       "version_major": 2,
       "version_minor": 0
      },
      "text/plain": [
       "HBox(children=(FloatProgress(value=1.0, bar_style='info', max=1.0), HTML(value='')))"
      ]
     },
     "metadata": {},
     "output_type": "display_data"
    },
    {
     "name": "stdout",
     "output_type": "stream",
     "text": [
      "Extracting /home/varun/.pytorch/CIFAR100_data/cifar-100-python.tar.gz to /home/varun/.pytorch/CIFAR100_data/\n"
     ]
    }
   ],
   "source": [
    "trainset= datasets.CIFAR100('~/.pytorch/CIFAR100_data/', train=True, download=True, transform=transform)\n",
    "trainloader = torch.utils.data.DataLoader(trainset,batch_size=100,shuffle=True)\n",
    "\n",
    "# for images,label in trainloader:\n",
    "#     print(images.shape)\n",
    "#     break\n",
    "    \n",
    "# Output:\n",
    "# torch.Size([100, 1, 28, 28])"
   ]
  },
  {
   "cell_type": "code",
   "execution_count": 6,
   "metadata": {},
   "outputs": [
    {
     "name": "stdout",
     "output_type": "stream",
     "text": [
      "Files already downloaded and verified\n"
     ]
    }
   ],
   "source": [
    "testset= datasets.CIFAR100('/home/varun/.pytorch/CIFAR100_data/',download=True,train=True,transform=transform)\n",
    "testloader = torch.utils.data.DataLoader(trainset,batch_size=100,shuffle=True)"
   ]
  },
  {
   "cell_type": "code",
   "execution_count": 7,
   "metadata": {},
   "outputs": [],
   "source": [
    "class CNNModel(torch.nn.Module):\n",
    "    def __init__(self):\n",
    "        super().__init__()\n",
    "        \n",
    "        #Conv 1\n",
    "        self.cnn1 = nn.Conv2d(in_channels=3,out_channels=16,kernel_size=5,stride=1,padding=2)\n",
    "        self.relu1 = nn.ReLU()\n",
    "        \n",
    "        #maxpool1\n",
    "        self.maxpool1 = nn.MaxPool2d(kernel_size=2)\n",
    "        \n",
    "        #Conv 2\n",
    "        self.cnn2 = nn.Conv2d(in_channels=16,out_channels=32,kernel_size=5,stride=1,padding=2)\n",
    "        self.relu2 = nn.ReLU()\n",
    "\n",
    "        #Conv 3\n",
    "        self.cnn3 = nn.Conv2d(in_channels=32,out_channels=64,kernel_size=5,stride=1,padding=2)\n",
    "        self.relu3 = nn.ReLU()\n",
    "\n",
    "        \n",
    "        #Maxpool 2\n",
    "        self.maxpool2 = nn.MaxPool2d(kernel_size=2)\n",
    "        \n",
    "        # 8 = (32/2)/2\n",
    "        self.fc1 = nn.Linear(64*8*8,100)\n",
    "        \n",
    "    def forward(self,x):\n",
    "        # x is of size (64,1,28,28)\n",
    "        # reshape to (64,784)\n",
    "        out = self.cnn1(x)\n",
    "        out = self.relu1(out)\n",
    "        out = self.maxpool1(out)\n",
    "\n",
    "        out = self.cnn2(out)\n",
    "        out = self.relu2(out)\n",
    "\n",
    "        out = self.cnn3(out)\n",
    "        out = self.relu3(out)\n",
    "        \n",
    "        out = self.maxpool2(out)\n",
    "        out = out.view(out.shape[0],-1)\n",
    "        \n",
    "        out = self.fc1(out)\n",
    "        return out\n",
    "        "
   ]
  },
  {
   "cell_type": "code",
   "execution_count": 8,
   "metadata": {},
   "outputs": [],
   "source": [
    "model = CNNModel()"
   ]
  },
  {
   "cell_type": "code",
   "execution_count": 9,
   "metadata": {},
   "outputs": [
    {
     "data": {
      "text/plain": [
       "CNNModel(\n",
       "  (cnn1): Conv2d(3, 16, kernel_size=(5, 5), stride=(1, 1), padding=(2, 2))\n",
       "  (relu1): ReLU()\n",
       "  (maxpool1): MaxPool2d(kernel_size=2, stride=2, padding=0, dilation=1, ceil_mode=False)\n",
       "  (cnn2): Conv2d(16, 32, kernel_size=(5, 5), stride=(1, 1), padding=(2, 2))\n",
       "  (relu2): ReLU()\n",
       "  (cnn3): Conv2d(32, 64, kernel_size=(5, 5), stride=(1, 1), padding=(2, 2))\n",
       "  (relu3): ReLU()\n",
       "  (maxpool2): MaxPool2d(kernel_size=2, stride=2, padding=0, dilation=1, ceil_mode=False)\n",
       "  (fc1): Linear(in_features=4096, out_features=100, bias=True)\n",
       ")"
      ]
     },
     "execution_count": 9,
     "metadata": {},
     "output_type": "execute_result"
    }
   ],
   "source": [
    "device = torch.device(\"cuda:0\" if torch.cuda.is_available() else \"cpu\")\n",
    "model.to(device)"
   ]
  },
  {
   "cell_type": "code",
   "execution_count": 10,
   "metadata": {},
   "outputs": [
    {
     "name": "stdout",
     "output_type": "stream",
     "text": [
      "CNNModel(\n",
      "  (cnn1): Conv2d(3, 16, kernel_size=(5, 5), stride=(1, 1), padding=(2, 2))\n",
      "  (relu1): ReLU()\n",
      "  (maxpool1): MaxPool2d(kernel_size=2, stride=2, padding=0, dilation=1, ceil_mode=False)\n",
      "  (cnn2): Conv2d(16, 32, kernel_size=(5, 5), stride=(1, 1), padding=(2, 2))\n",
      "  (relu2): ReLU()\n",
      "  (cnn3): Conv2d(32, 64, kernel_size=(5, 5), stride=(1, 1), padding=(2, 2))\n",
      "  (relu3): ReLU()\n",
      "  (maxpool2): MaxPool2d(kernel_size=2, stride=2, padding=0, dilation=1, ceil_mode=False)\n",
      "  (fc1): Linear(in_features=4096, out_features=100, bias=True)\n",
      ")\n"
     ]
    }
   ],
   "source": [
    "print(model)"
   ]
  },
  {
   "cell_type": "code",
   "execution_count": 13,
   "metadata": {},
   "outputs": [],
   "source": [
    "learning_rate = 0.05\n",
    "criterion = nn.CrossEntropyLoss()\n",
    "\n",
    "optimizer = optim.SGD(model.parameters(),lr=learning_rate)"
   ]
  },
  {
   "cell_type": "code",
   "execution_count": 14,
   "metadata": {},
   "outputs": [
    {
     "name": "stdout",
     "output_type": "stream",
     "text": [
      "Epoch 1\n",
      "Iteration: 500. Loss: 0.12622806429862976. Accuracy: 96\n",
      "Epoch 2\n",
      "Iteration: 1000. Loss: 0.17965389788150787. Accuracy: 97\n",
      "Epoch 3\n",
      "Iteration: 1500. Loss: 0.12420953810214996. Accuracy: 97\n",
      "Epoch 4\n",
      "Iteration: 2000. Loss: 0.02551054023206234. Accuracy: 98\n",
      "Epoch 5\n",
      "Iteration: 2500. Loss: 0.1304480880498886. Accuracy: 98\n"
     ]
    }
   ],
   "source": [
    "epochs = 5\n",
    "iter_n = 0\n",
    "for e in range(epochs):\n",
    "    print('Epoch {}'.format(e+1))\n",
    "    running_loss = 0\n",
    "    for i, (images,labels) in enumerate(trainloader):\n",
    "        \n",
    "        images = images.requires_grad_().to(device)\n",
    "        labels = labels.to(device)\n",
    "        \n",
    "        optimizer.zero_grad()\n",
    "        \n",
    "        logits = model.forward(images)\n",
    "        \n",
    "        loss = criterion(logits,labels)\n",
    "        \n",
    "        loss.backward()\n",
    "        \n",
    "        optimizer.step()\n",
    "        \n",
    "        running_loss += loss.item()\n",
    "        \n",
    "        iter_n += 1\n",
    "        \n",
    "        if iter_n%500 == 0:\n",
    "            print('Iteration: {}.'.format(iter_n),end = ' ')\n",
    "            correct = 0\n",
    "            total = 0\n",
    "            with torch.no_grad():\n",
    "                for images, labels in testloader:\n",
    "                    images = images.to(device)\n",
    "                    labels = labels.to(device)\n",
    "                    logit = model(images)\n",
    "                    _, predicted = torch.max(logit.data, 1)\n",
    "                    total += labels.size(0)\n",
    "\n",
    "                    # Total correct predictions\n",
    "                    if torch.cuda.is_available():\n",
    "                        correct += (predicted.cpu() == labels.cpu()).sum()\n",
    "                    else:\n",
    "                        correct += (predicted == labels).sum()# print(logit.data.shape)\n",
    "                accuracy = 100 * correct / total\n",
    "                # print('Total {}'.format(total))\n",
    "\n",
    "                # Print Loss\n",
    "                print('Loss: {}. Accuracy: {}'.format(loss.item(), accuracy))\n",
    "#     else:\n",
    "#         accuracy = 0\n",
    "#         with torch.no_grad():\n",
    "#             for images,labels in testloader:\n",
    "#                 images = images.to(device)\n",
    "#                 labels = labels.to(device)\n",
    "#                 logit = model(images)\n",
    "#                 ps = logit.cpu() #torch.exp(logit)\n",
    "#                 top_p,top_class = ps.topk(1,dim = 1)\n",
    "#                 equals = top_class == labels.cpu().view(*top_class.shape)\n",
    "#                 accuracy += torch.mean(equals.type(torch.FloatTensor))                \n",
    "#         print('Train accuracy: {}'.format(running_loss))\n",
    "#         print('Test accuracy: {}'.format((accuracy/len(testloader)).data.numpy()))"
   ]
  },
  {
   "cell_type": "code",
   "execution_count": 15,
   "metadata": {},
   "outputs": [],
   "source": [
    "learning_rate = 0.01\n",
    "criterion = nn.CrossEntropyLoss()\n",
    "\n",
    "optimizer = optim.SGD(model.parameters(),lr=learning_rate)"
   ]
  },
  {
   "cell_type": "code",
   "execution_count": 16,
   "metadata": {},
   "outputs": [
    {
     "name": "stdout",
     "output_type": "stream",
     "text": [
      "Epoch 1\n",
      "Iteration: 500. Loss: 0.009333057329058647. Accuracy: 99\n",
      "Epoch 2\n",
      "Iteration: 1000. Loss: 0.0010113334283232689. Accuracy: 99\n",
      "Epoch 3\n",
      "Iteration: 1500. Loss: 0.0023626708425581455. Accuracy: 99\n",
      "Epoch 4\n",
      "Iteration: 2000. Loss: 0.001499500242061913. Accuracy: 99\n",
      "Epoch 5\n",
      "Iteration: 2500. Loss: 0.0008965110755525529. Accuracy: 99\n",
      "Epoch 6\n",
      "Iteration: 3000. Loss: 0.0014057350344955921. Accuracy: 99\n",
      "Epoch 7\n",
      "Iteration: 3500. Loss: 0.0019685362931340933. Accuracy: 99\n",
      "Epoch 8\n",
      "Iteration: 4000. Loss: 0.0005116653628647327. Accuracy: 99\n",
      "Epoch 9\n",
      "Iteration: 4500. Loss: 0.0011274147545918822. Accuracy: 99\n",
      "Epoch 10\n",
      "Iteration: 5000. Loss: 0.0008070945623330772. Accuracy: 99\n"
     ]
    }
   ],
   "source": [
    "epochs = 10\n",
    "iter_n = 0\n",
    "for e in range(epochs):\n",
    "    print('Epoch {}'.format(e+1))\n",
    "    running_loss = 0\n",
    "    for i, (images,labels) in enumerate(trainloader):\n",
    "        \n",
    "        images = images.requires_grad_().to(device)\n",
    "        labels = labels.to(device)\n",
    "        \n",
    "        optimizer.zero_grad()\n",
    "        \n",
    "        logits = model.forward(images)\n",
    "        \n",
    "        loss = criterion(logits,labels)\n",
    "        \n",
    "        loss.backward()\n",
    "        \n",
    "        optimizer.step()\n",
    "        \n",
    "        running_loss += loss.item()\n",
    "        \n",
    "        iter_n += 1\n",
    "        \n",
    "        if iter_n%500 == 0:\n",
    "            print('Iteration: {}.'.format(iter_n),end = ' ')\n",
    "            correct = 0\n",
    "            total = 0\n",
    "            with torch.no_grad():\n",
    "                for images, labels in testloader:\n",
    "                    images = images.to(device)\n",
    "                    labels = labels.to(device)\n",
    "                    logit = model(images)\n",
    "                    _, predicted = torch.max(logit.data, 1)\n",
    "                    total += labels.size(0)\n",
    "\n",
    "                    # Total correct predictions\n",
    "                    if torch.cuda.is_available():\n",
    "                        correct += (predicted.cpu() == labels.cpu()).sum()\n",
    "                    else:\n",
    "                        correct += (predicted == labels).sum()# print(logit.data.shape)\n",
    "                accuracy = 100 * correct / total\n",
    "                # print('Total {}'.format(total))\n",
    "\n",
    "                # Print Loss\n",
    "                print('Loss: {}. Accuracy: {}'.format(loss.item(), accuracy))\n",
    "#     else:\n",
    "#         accuracy = 0\n",
    "#         with torch.no_grad():\n",
    "#             for images,labels in testloader:\n",
    "#                 images = images.to(device)\n",
    "#                 labels = labels.to(device)\n",
    "#                 logit = model(images)\n",
    "#                 ps = logit.cpu() #torch.exp(logit)\n",
    "#                 top_p,top_class = ps.topk(1,dim = 1)\n",
    "#                 equals = top_class == labels.cpu().view(*top_class.shape)\n",
    "#                 accuracy += torch.mean(equals.type(torch.FloatTensor))                \n",
    "#         print('Train accuracy: {}'.format(running_loss))\n",
    "#         print('Test accuracy: {}'.format((accuracy/len(testloader)).data.numpy()))"
   ]
  }
 ],
 "metadata": {
  "kernelspec": {
   "display_name": "SMAI",
   "language": "python",
   "name": "smai"
  },
  "language_info": {
   "codemirror_mode": {
    "name": "ipython",
    "version": 3
   },
   "file_extension": ".py",
   "mimetype": "text/x-python",
   "name": "python",
   "nbconvert_exporter": "python",
   "pygments_lexer": "ipython3",
   "version": "3.8.2"
  }
 },
 "nbformat": 4,
 "nbformat_minor": 4
}
